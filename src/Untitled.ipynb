{
 "cells": [
  {
   "cell_type": "code",
   "execution_count": 10,
   "metadata": {
    "collapsed": false
   },
   "outputs": [
    {
     "data": {
      "text/plain": [
       "21224"
      ]
     },
     "execution_count": 10,
     "metadata": {},
     "output_type": "execute_result"
    }
   ],
   "source": [
    "\n",
    "# up to 99\n",
    "single_number_names = ['one', 'two', 'three', 'four', 'five', 'six', 'seven', 'eight', 'nine']\n",
    "teen_number_names = ['ten', 'eleven', 'twelve', 'thirteen', 'fourteen', 'fifteen', 'sixteen', 'seventeen', 'eighteen', 'nineteen']\n",
    "single_number_lens = [len(n) for n in single_number_names]\n",
    "teen_lens = [len(t) for t in teen_number_names]\n",
    "dec_names = ['ten', 'twenty', 'thirty', 'fourty', 'fifty', 'sixty', 'seventy', 'eighty', 'ninety']\n",
    "dec_lens = [len(d) for d in dec_names]\n",
    "\n",
    "# names of numbers from 20 on\n",
    "# 8 decades * singles + decades itself\n",
    "from_20 = 8 * sum(single_number_lens) + 10 * sum(dec_lens[1:])\n",
    "\n",
    "# names up to 20\n",
    "up_to_20 = sum(single_number_lens) + sum(teen_lens)\n",
    "\n",
    "# all up to 99\n",
    "first_99 = up_to_20 + from_20\n",
    "\n",
    "# centuries \n",
    "hundred = len('hundred') * 900 + sum(single_number_lens) * 100\n",
    "and_ = len('and') * (900-9)\n",
    "\n",
    "# all together\n",
    "first_99 * 10 + hundred + and_ + len('onethousand')"
   ]
  },
  {
   "cell_type": "code",
   "execution_count": null,
   "metadata": {
    "collapsed": true
   },
   "outputs": [],
   "source": []
  }
 ],
 "metadata": {
  "kernelspec": {
   "display_name": "Python 3",
   "language": "python",
   "name": "python3"
  },
  "language_info": {
   "codemirror_mode": {
    "name": "ipython",
    "version": 3
   },
   "file_extension": ".py",
   "mimetype": "text/x-python",
   "name": "python",
   "nbconvert_exporter": "python",
   "pygments_lexer": "ipython3",
   "version": "3.5.3"
  }
 },
 "nbformat": 4,
 "nbformat_minor": 0
}
