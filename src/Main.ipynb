{
 "cells": [
  {
   "cell_type": "code",
   "execution_count": 1,
   "metadata": {
    "collapsed": true
   },
   "outputs": [],
   "source": [
    "import csv\n",
    "import numpy as np\n",
    "from datetime import datetime"
   ]
  },
  {
   "cell_type": "code",
   "execution_count": 2,
   "metadata": {
    "collapsed": false
   },
   "outputs": [],
   "source": [
    "import pandas"
   ]
  },
  {
   "cell_type": "code",
   "execution_count": 5,
   "metadata": {
    "collapsed": false
   },
   "outputs": [
    {
     "ename": "ValueError",
     "evalue": "unknown locale: UTF-8",
     "output_type": "error",
     "traceback": [
      "\u001b[0;31m---------------------------------------------------------------------------\u001b[0m",
      "\u001b[0;31mValueError\u001b[0m                                Traceback (most recent call last)",
      "\u001b[0;32m<ipython-input-5-d695a08e51d9>\u001b[0m in \u001b[0;36m<module>\u001b[0;34m()\u001b[0m\n\u001b[1;32m      2\u001b[0m \u001b[0;32mimport\u001b[0m \u001b[0mnumpy\u001b[0m \u001b[0;32mas\u001b[0m \u001b[0mnp\u001b[0m\u001b[0;34m\u001b[0m\u001b[0m\n\u001b[1;32m      3\u001b[0m \u001b[0;32mfrom\u001b[0m \u001b[0mdatetime\u001b[0m \u001b[0;32mimport\u001b[0m \u001b[0mdatetime\u001b[0m\u001b[0;34m\u001b[0m\u001b[0m\n\u001b[0;32m----> 4\u001b[0;31m \u001b[0;32mimport\u001b[0m \u001b[0mmatplotlib\u001b[0m\u001b[0;34m\u001b[0m\u001b[0m\n\u001b[0m\u001b[1;32m      5\u001b[0m \u001b[0mget_ipython\u001b[0m\u001b[0;34m(\u001b[0m\u001b[0;34m)\u001b[0m\u001b[0;34m.\u001b[0m\u001b[0mmagic\u001b[0m\u001b[0;34m(\u001b[0m\u001b[0;34m'matplotlib inline'\u001b[0m\u001b[0;34m)\u001b[0m\u001b[0;34m\u001b[0m\u001b[0m\n",
      "\u001b[0;32m/Users/ales/anaconda/lib/python3.5/site-packages/matplotlib/__init__.py\u001b[0m in \u001b[0;36m<module>\u001b[0;34m()\u001b[0m\n\u001b[1;32m   1129\u001b[0m \u001b[0;34m\u001b[0m\u001b[0m\n\u001b[1;32m   1130\u001b[0m \u001b[0;31m# this is the instance used by the matplotlib classes\u001b[0m\u001b[0;34m\u001b[0m\u001b[0;34m\u001b[0m\u001b[0m\n\u001b[0;32m-> 1131\u001b[0;31m \u001b[0mrcParams\u001b[0m \u001b[0;34m=\u001b[0m \u001b[0mrc_params\u001b[0m\u001b[0;34m(\u001b[0m\u001b[0;34m)\u001b[0m\u001b[0;34m\u001b[0m\u001b[0m\n\u001b[0m\u001b[1;32m   1132\u001b[0m \u001b[0;34m\u001b[0m\u001b[0m\n\u001b[1;32m   1133\u001b[0m \u001b[0;32mif\u001b[0m \u001b[0mrcParams\u001b[0m\u001b[0;34m[\u001b[0m\u001b[0;34m'examples.directory'\u001b[0m\u001b[0;34m]\u001b[0m\u001b[0;34m:\u001b[0m\u001b[0;34m\u001b[0m\u001b[0m\n",
      "\u001b[0;32m/Users/ales/anaconda/lib/python3.5/site-packages/matplotlib/__init__.py\u001b[0m in \u001b[0;36mrc_params\u001b[0;34m(fail_on_error)\u001b[0m\n\u001b[1;32m    973\u001b[0m         \u001b[0;32mreturn\u001b[0m \u001b[0mret\u001b[0m\u001b[0;34m\u001b[0m\u001b[0m\n\u001b[1;32m    974\u001b[0m \u001b[0;34m\u001b[0m\u001b[0m\n\u001b[0;32m--> 975\u001b[0;31m     \u001b[0;32mreturn\u001b[0m \u001b[0mrc_params_from_file\u001b[0m\u001b[0;34m(\u001b[0m\u001b[0mfname\u001b[0m\u001b[0;34m,\u001b[0m \u001b[0mfail_on_error\u001b[0m\u001b[0;34m)\u001b[0m\u001b[0;34m\u001b[0m\u001b[0m\n\u001b[0m\u001b[1;32m    976\u001b[0m \u001b[0;34m\u001b[0m\u001b[0m\n\u001b[1;32m    977\u001b[0m \u001b[0;34m\u001b[0m\u001b[0m\n",
      "\u001b[0;32m/Users/ales/anaconda/lib/python3.5/site-packages/matplotlib/__init__.py\u001b[0m in \u001b[0;36mrc_params_from_file\u001b[0;34m(fname, fail_on_error, use_default_template)\u001b[0m\n\u001b[1;32m   1098\u001b[0m         \u001b[0mparameters\u001b[0m \u001b[0mspecified\u001b[0m \u001b[0;32min\u001b[0m \u001b[0mthe\u001b[0m \u001b[0mfile\u001b[0m\u001b[0;34m.\u001b[0m \u001b[0;34m(\u001b[0m\u001b[0mUseful\u001b[0m \u001b[0;32mfor\u001b[0m \u001b[0mupdating\u001b[0m \u001b[0mdicts\u001b[0m\u001b[0;34m.\u001b[0m\u001b[0;34m)\u001b[0m\u001b[0;34m\u001b[0m\u001b[0m\n\u001b[1;32m   1099\u001b[0m     \"\"\"\n\u001b[0;32m-> 1100\u001b[0;31m     \u001b[0mconfig_from_file\u001b[0m \u001b[0;34m=\u001b[0m \u001b[0m_rc_params_in_file\u001b[0m\u001b[0;34m(\u001b[0m\u001b[0mfname\u001b[0m\u001b[0;34m,\u001b[0m \u001b[0mfail_on_error\u001b[0m\u001b[0;34m)\u001b[0m\u001b[0;34m\u001b[0m\u001b[0m\n\u001b[0m\u001b[1;32m   1101\u001b[0m \u001b[0;34m\u001b[0m\u001b[0m\n\u001b[1;32m   1102\u001b[0m     \u001b[0;32mif\u001b[0m \u001b[0;32mnot\u001b[0m \u001b[0muse_default_template\u001b[0m\u001b[0;34m:\u001b[0m\u001b[0;34m\u001b[0m\u001b[0m\n",
      "\u001b[0;32m/Users/ales/anaconda/lib/python3.5/site-packages/matplotlib/__init__.py\u001b[0m in \u001b[0;36m_rc_params_in_file\u001b[0;34m(fname, fail_on_error)\u001b[0m\n\u001b[1;32m   1016\u001b[0m     \u001b[0mcnt\u001b[0m \u001b[0;34m=\u001b[0m \u001b[0;36m0\u001b[0m\u001b[0;34m\u001b[0m\u001b[0m\n\u001b[1;32m   1017\u001b[0m     \u001b[0mrc_temp\u001b[0m \u001b[0;34m=\u001b[0m \u001b[0;34m{\u001b[0m\u001b[0;34m}\u001b[0m\u001b[0;34m\u001b[0m\u001b[0m\n\u001b[0;32m-> 1018\u001b[0;31m     \u001b[0;32mwith\u001b[0m \u001b[0m_open_file_or_url\u001b[0m\u001b[0;34m(\u001b[0m\u001b[0mfname\u001b[0m\u001b[0;34m)\u001b[0m \u001b[0;32mas\u001b[0m \u001b[0mfd\u001b[0m\u001b[0;34m:\u001b[0m\u001b[0;34m\u001b[0m\u001b[0m\n\u001b[0m\u001b[1;32m   1019\u001b[0m         \u001b[0;32mtry\u001b[0m\u001b[0;34m:\u001b[0m\u001b[0;34m\u001b[0m\u001b[0m\n\u001b[1;32m   1020\u001b[0m             \u001b[0;32mfor\u001b[0m \u001b[0mline\u001b[0m \u001b[0;32min\u001b[0m \u001b[0mfd\u001b[0m\u001b[0;34m:\u001b[0m\u001b[0;34m\u001b[0m\u001b[0m\n",
      "\u001b[0;32m/Users/ales/anaconda/lib/python3.5/contextlib.py\u001b[0m in \u001b[0;36m__enter__\u001b[0;34m(self)\u001b[0m\n\u001b[1;32m     57\u001b[0m     \u001b[0;32mdef\u001b[0m \u001b[0m__enter__\u001b[0m\u001b[0;34m(\u001b[0m\u001b[0mself\u001b[0m\u001b[0;34m)\u001b[0m\u001b[0;34m:\u001b[0m\u001b[0;34m\u001b[0m\u001b[0m\n\u001b[1;32m     58\u001b[0m         \u001b[0;32mtry\u001b[0m\u001b[0;34m:\u001b[0m\u001b[0;34m\u001b[0m\u001b[0m\n\u001b[0;32m---> 59\u001b[0;31m             \u001b[0;32mreturn\u001b[0m \u001b[0mnext\u001b[0m\u001b[0;34m(\u001b[0m\u001b[0mself\u001b[0m\u001b[0;34m.\u001b[0m\u001b[0mgen\u001b[0m\u001b[0;34m)\u001b[0m\u001b[0;34m\u001b[0m\u001b[0m\n\u001b[0m\u001b[1;32m     60\u001b[0m         \u001b[0;32mexcept\u001b[0m \u001b[0mStopIteration\u001b[0m\u001b[0;34m:\u001b[0m\u001b[0;34m\u001b[0m\u001b[0m\n\u001b[1;32m     61\u001b[0m             \u001b[0;32mraise\u001b[0m \u001b[0mRuntimeError\u001b[0m\u001b[0;34m(\u001b[0m\u001b[0;34m\"generator didn't yield\"\u001b[0m\u001b[0;34m)\u001b[0m \u001b[0;32mfrom\u001b[0m \u001b[0;32mNone\u001b[0m\u001b[0;34m\u001b[0m\u001b[0m\n",
      "\u001b[0;32m/Users/ales/anaconda/lib/python3.5/site-packages/matplotlib/__init__.py\u001b[0m in \u001b[0;36m_open_file_or_url\u001b[0;34m(fname)\u001b[0m\n\u001b[1;32m    998\u001b[0m     \u001b[0;32melse\u001b[0m\u001b[0;34m:\u001b[0m\u001b[0;34m\u001b[0m\u001b[0m\n\u001b[1;32m    999\u001b[0m         \u001b[0mfname\u001b[0m \u001b[0;34m=\u001b[0m \u001b[0mos\u001b[0m\u001b[0;34m.\u001b[0m\u001b[0mpath\u001b[0m\u001b[0;34m.\u001b[0m\u001b[0mexpanduser\u001b[0m\u001b[0;34m(\u001b[0m\u001b[0mfname\u001b[0m\u001b[0;34m)\u001b[0m\u001b[0;34m\u001b[0m\u001b[0m\n\u001b[0;32m-> 1000\u001b[0;31m         \u001b[0mencoding\u001b[0m \u001b[0;34m=\u001b[0m \u001b[0mlocale\u001b[0m\u001b[0;34m.\u001b[0m\u001b[0mgetdefaultlocale\u001b[0m\u001b[0;34m(\u001b[0m\u001b[0;34m)\u001b[0m\u001b[0;34m[\u001b[0m\u001b[0;36m1\u001b[0m\u001b[0;34m]\u001b[0m\u001b[0;34m\u001b[0m\u001b[0m\n\u001b[0m\u001b[1;32m   1001\u001b[0m         \u001b[0;32mif\u001b[0m \u001b[0mencoding\u001b[0m \u001b[0;32mis\u001b[0m \u001b[0;32mNone\u001b[0m\u001b[0;34m:\u001b[0m\u001b[0;34m\u001b[0m\u001b[0m\n\u001b[1;32m   1002\u001b[0m             \u001b[0mencoding\u001b[0m \u001b[0;34m=\u001b[0m \u001b[0;34m\"utf-8\"\u001b[0m\u001b[0;34m\u001b[0m\u001b[0m\n",
      "\u001b[0;32m/Users/ales/anaconda/lib/python3.5/locale.py\u001b[0m in \u001b[0;36mgetdefaultlocale\u001b[0;34m(envvars)\u001b[0m\n\u001b[1;32m    557\u001b[0m     \u001b[0;32melse\u001b[0m\u001b[0;34m:\u001b[0m\u001b[0;34m\u001b[0m\u001b[0m\n\u001b[1;32m    558\u001b[0m         \u001b[0mlocalename\u001b[0m \u001b[0;34m=\u001b[0m \u001b[0;34m'C'\u001b[0m\u001b[0;34m\u001b[0m\u001b[0m\n\u001b[0;32m--> 559\u001b[0;31m     \u001b[0;32mreturn\u001b[0m \u001b[0m_parse_localename\u001b[0m\u001b[0;34m(\u001b[0m\u001b[0mlocalename\u001b[0m\u001b[0;34m)\u001b[0m\u001b[0;34m\u001b[0m\u001b[0m\n\u001b[0m\u001b[1;32m    560\u001b[0m \u001b[0;34m\u001b[0m\u001b[0m\n\u001b[1;32m    561\u001b[0m \u001b[0;34m\u001b[0m\u001b[0m\n",
      "\u001b[0;32m/Users/ales/anaconda/lib/python3.5/locale.py\u001b[0m in \u001b[0;36m_parse_localename\u001b[0;34m(localename)\u001b[0m\n\u001b[1;32m    485\u001b[0m     \u001b[0;32melif\u001b[0m \u001b[0mcode\u001b[0m \u001b[0;34m==\u001b[0m \u001b[0;34m'C'\u001b[0m\u001b[0;34m:\u001b[0m\u001b[0;34m\u001b[0m\u001b[0m\n\u001b[1;32m    486\u001b[0m         \u001b[0;32mreturn\u001b[0m \u001b[0;32mNone\u001b[0m\u001b[0;34m,\u001b[0m \u001b[0;32mNone\u001b[0m\u001b[0;34m\u001b[0m\u001b[0m\n\u001b[0;32m--> 487\u001b[0;31m     \u001b[0;32mraise\u001b[0m \u001b[0mValueError\u001b[0m\u001b[0;34m(\u001b[0m\u001b[0;34m'unknown locale: %s'\u001b[0m \u001b[0;34m%\u001b[0m \u001b[0mlocalename\u001b[0m\u001b[0;34m)\u001b[0m\u001b[0;34m\u001b[0m\u001b[0m\n\u001b[0m\u001b[1;32m    488\u001b[0m \u001b[0;34m\u001b[0m\u001b[0m\n\u001b[1;32m    489\u001b[0m \u001b[0;32mdef\u001b[0m \u001b[0m_build_localename\u001b[0m\u001b[0;34m(\u001b[0m\u001b[0mlocaletuple\u001b[0m\u001b[0;34m)\u001b[0m\u001b[0;34m:\u001b[0m\u001b[0;34m\u001b[0m\u001b[0m\n",
      "\u001b[0;31mValueError\u001b[0m: unknown locale: UTF-8"
     ]
    }
   ],
   "source": [
    "import matplotlib\n",
    "%matplotlib inline  "
   ]
  },
  {
   "cell_type": "markdown",
   "metadata": {},
   "source": [
    "# Constants"
   ]
  },
  {
   "cell_type": "code",
   "execution_count": 16,
   "metadata": {
    "collapsed": true
   },
   "outputs": [],
   "source": [
    "STATION_ID_COL_NAME = 'station id'\n",
    "STATION_NAME_COL_NAME = 'station name'\n",
    "PARAM_T = 'T [°C]'\n",
    "PARAM_RAIN = 'količina padavin [mm]'"
   ]
  },
  {
   "cell_type": "markdown",
   "metadata": {},
   "source": [
    "# Initial Configuration"
   ]
  },
  {
   "cell_type": "raw",
   "metadata": {
    "collapsed": false
   },
   "source": [
    "import os\n",
    "# Set working directory to the root directory of the project\n",
    "os.chdir('/Users/ales/Desktop/GIT/Power-Price-Prediction/')\n",
    "# Check the change\n",
    "os.getcwd()"
   ]
  },
  {
   "cell_type": "markdown",
   "metadata": {},
   "source": [
    "# Utils"
   ]
  },
  {
   "cell_type": "code",
   "execution_count": 112,
   "metadata": {
    "collapsed": true
   },
   "outputs": [],
   "source": [
    "def ARSO_datetime_to_epoch(datetime_string):\n",
    "    \"\"\"Convert ARSO datetime into epoch time in seconds\"\"\"\n",
    "    utc_time = datetime.strptime(datetime_string, \"%Y-%m-%d %H:%M\")\n",
    "    epoch_time = (utc_time - datetime(1970, 1, 1)).total_seconds()\n",
    "    return epoch_time\n",
    "\n",
    "\n",
    "def ARSO_datetime_to_epoch_array(datetime_strings):\n",
    "    \"\"\"Convert list of ARSO datetimes into epoch time in seconds\"\"\"\n",
    "    return [ARSO_datetime_to_epoch(dt) for dt in datetime_strings]\n",
    "\n",
    "\n",
    "def borzen_datetime_to_epoch(datetime_string):\n",
    "    \"\"\"Convert borzen datetime into epoch time in seconds\"\"\"\n",
    "    try:\n",
    "        utc_time = datetime.strptime(datetime_string, \"%d.%m.%Y %H\")\n",
    "    except:\n",
    "        # strptime accepts [0,23] hour interval, while borzen data has [1,24] hour \n",
    "        # interval, thus modification of '24' into '00' is needed\n",
    "        if datetime_string[-2:] == \"24\":\n",
    "            datetime_string = datetime_string[:-2] + \"00\"\n",
    "            utc_time = datetime.strptime(datetime_string, \"%d.%m.%Y %H\")\n",
    "        else:\n",
    "            print(\"Error in datetime parsing: \" + datetime_string)\n",
    "    epoch_time = (utc_time - datetime(1970, 1, 1)).total_seconds()\n",
    "    return epoch_time"
   ]
  },
  {
   "cell_type": "markdown",
   "metadata": {},
   "source": [
    "# Library"
   ]
  },
  {
   "cell_type": "code",
   "execution_count": 54,
   "metadata": {
    "collapsed": false
   },
   "outputs": [],
   "source": [
    "class Station:\n",
    "    def __init__(self, station_id, station_name, header, data, data_timestamp_epoch):\n",
    "        self.station_is = station_id\n",
    "        self.station_name = station_name\n",
    "        self.header = header\n",
    "        self.data = data\n",
    "        self.size = len(data)\n",
    "        self.data_ts = data_timestamp_epoch\n",
    "    \n",
    "    def __str__(self):\n",
    "        return self.station_id + \" \" + self.station_name + \" size=\" + str(self.size)\n",
    "    \n",
    "    def __repr(self):\n",
    "        return self.station_id + \" \" + self.station_name + \" size=\" + str(self.size)"
   ]
  },
  {
   "cell_type": "code",
   "execution_count": 102,
   "metadata": {
    "collapsed": true
   },
   "outputs": [],
   "source": [
    "class Prices:\n",
    "    def __init__(self, prices, prices_timestamp_epoch):\n",
    "        self.prices = prices\n",
    "        self.timestamps = prices_timestamp_epoch"
   ]
  },
  {
   "cell_type": "code",
   "execution_count": 127,
   "metadata": {
    "collapsed": true
   },
   "outputs": [],
   "source": [
    "def test_load_ksedlo():\n",
    "    \"\"\"Load weather data for Korenjsko sedlo that has been dowloaded \n",
    "    from ARSO website. It removes lines that have any NaN values.\"\"\"\n",
    "    print('Start loading korenjsko sedlo')\n",
    "    import csv\n",
    "    test_file_ksedlo = '/Users/ales/Desktop/STUDIJ/DodatnoLeto/MatematikaZracunalnikom/WeatherDataTest/KorenjskoSedloTest'\n",
    "    # open file and read content in a csv format\n",
    "    csvfile = open(test_file_ksedlo, 'r')\n",
    "    reader = csv.reader(csvfile, delimiter=',')\n",
    "    data = list(reader)\n",
    "    # extract header and clean up data by removing empty lines\n",
    "    header_line = [el.strip() for el in data[0]]\n",
    "    station_id = header_line[0]\n",
    "    station_name = header_line[1]\n",
    "    header = header_line[2:]\n",
    "    # there are empty lines generated by parsing that needs to be removed\n",
    "    data_full = data[2:len(data):2]\n",
    "    data_empty = data[1:len(data):2]\n",
    "    # check if 'empty' lines are really empty\n",
    "    for lst in data_empty:\n",
    "        if len(lst) != 0:\n",
    "            # there is a non empty line\n",
    "            print(\"Warning: not empty line \" + lst)\n",
    "            return None\n",
    "    # remove station_id column, station_name column and datatime \n",
    "    # and create numpy matrix with floats\n",
    "    data_clean = []\n",
    "    for line in data_full:\n",
    "        try:\n",
    "            line_clean_float = list(map(float, line[3:]))\n",
    "            data_clean.append(line_clean_float)\n",
    "        except:\n",
    "            # lines that have missing values are removed\n",
    "            pass\n",
    "    data_clean_np = np.array(data_clean)\n",
    "    # extract datetime and convert it into timestamp epoch\n",
    "    data_timestamps = np.array([[ARSO_datetime_to_epoch(line[2])] \n",
    "                                for line in data_full])\n",
    "    # finish\n",
    "    print('Loading successful')\n",
    "    return Station(station_id, station_name, header, data_clean_np, data_timestamps)"
   ]
  },
  {
   "cell_type": "raw",
   "metadata": {},
   "source": [
    "def test_load_borzen_consumption():\n",
    "    \"\"\"Load power consumption of various suppliers.\"\"\"\n",
    "    print(\"Load test borzen consumption.\")\n",
    "    file_name = '/Users/ales/Desktop/STUDIJ/DodatnoLeto/MatematikaZracunalnikom/Borzen/Odjem/PDO_PRO_ODJ_2016.csv/01 2016-Table 1.csv'\n",
    "    # open file and read content in a csv format\n",
    "    csvfile = open(file_name, 'r')\n",
    "    reader = csv.reader(csvfile, delimiter=';')\n",
    "    # get header and clean data\n",
    "    data = list(reader)\n",
    "    header = data[7]\n",
    "    data_clean = data[9:]\n",
    "    # finish\n",
    "    print(\"Loading test borzen consumption successful!\")\n",
    "    return Table(header, data_clean)"
   ]
  },
  {
   "cell_type": "code",
   "execution_count": 123,
   "metadata": {
    "collapsed": true
   },
   "outputs": [],
   "source": [
    "def test_load_borzen_price():\n",
    "    \"\"\"Load borzen power prices.\"\"\"\n",
    "    print(\"Load test borzen prices.\")\n",
    "    file_name = '/Users/ales/Desktop/STUDIJ/DodatnoLeto/MatematikaZracunalnikom/Borzen/Cena/Cp_in_Cn_2017_/01 2017-Table 1.csv'\n",
    "    # open file and read content\n",
    "    csvfile = open(file_name, 'r')\n",
    "    reader = csv.reader(csvfile, delimiter=';')\n",
    "    data = list(reader)\n",
    "    # get header and clean data\n",
    "    header = data[7]\n",
    "    data_clean = data[9:]\n",
    "    # extract datetime and convert it into timestamp epoch; extract also SIPX values;\n",
    "    # warning, SIPX values uses comma as decimal marker\n",
    "    timestamps = []\n",
    "    prices = []\n",
    "    for line in data_clean:\n",
    "        timestamps.append(borzen_datetime_to_epoch(line[0]))\n",
    "        prices.append(float(line[1].strip().replace(\",\",\".\")))\n",
    "    # convert list into numpy array\n",
    "    timestamps = np.array(timestamps)\n",
    "    prices = np.array(prices)\n",
    "    # finish\n",
    "    print(\"Loading test borzen prices successful!\")\n",
    "    # TODO \n",
    "    return Prices(prices, timestamps)"
   ]
  },
  {
   "cell_type": "raw",
   "metadata": {},
   "source": [
    "def test_load_ksedlo():\n",
    "    \"\"\"Load weather data for Korenjsko sedlo that has been dowloaded \n",
    "    from ARSO website.\"\"\"\n",
    "    print('Start loading korenjsko sedlo')\n",
    "    import csv\n",
    "    test_file_ksedlo = '/Users/ales/Desktop/STUDIJ/DodatnoLeto/MatematikaZracunalnikom/WeatherDataTest/KorenjskoSedloTest'\n",
    "    # open file and read content in a csv format\n",
    "    csvfile = open(test_file_ksedlo, 'r')\n",
    "    reader = csv.reader(csvfile, delimiter=',')\n",
    "    data = list(reader)\n",
    "    # extract header and clean up data by removing empty lines\n",
    "    header = data[0]\n",
    "    data_clean = data[2:len(data):2]\n",
    "    data_deleted = data[1:len(data):2]\n",
    "    # check if deleted data is really empty\n",
    "    for lst in data_deleted:\n",
    "        if len(lst) != 0:\n",
    "            # there is a non empty line\n",
    "            print(\"Warning: not empty line \" + lst)\n",
    "            return None\n",
    "    # finish\n",
    "    print('Loading successful')\n",
    "    # TODO\n",
    "    return Table(header, data_clean) "
   ]
  },
  {
   "cell_type": "markdown",
   "metadata": {},
   "source": [
    "# Load Data"
   ]
  },
  {
   "cell_type": "code",
   "execution_count": 128,
   "metadata": {
    "collapsed": false
   },
   "outputs": [
    {
     "name": "stdout",
     "output_type": "stream",
     "text": [
      "Start loading korenjsko sedlo\n",
      "Loading successful\n"
     ]
    }
   ],
   "source": [
    "# Load training data ksedlo and power prices\n",
    "ksedlo_station = test_load_ksedlo()\n",
    "#consumption = DataLoader.test_load_borzen_consumption()"
   ]
  },
  {
   "cell_type": "code",
   "execution_count": 129,
   "metadata": {
    "collapsed": false
   },
   "outputs": [
    {
     "data": {
      "text/plain": [
       "1440"
      ]
     },
     "execution_count": 129,
     "metadata": {},
     "output_type": "execute_result"
    }
   ],
   "source": [
    "# Check data and remove unnecessary columns\n",
    "ksedlo_station.data\n",
    "ksedlo_station.size"
   ]
  },
  {
   "cell_type": "markdown",
   "metadata": {
    "collapsed": false
   },
   "source": [
    "# ARIMA "
   ]
  },
  {
   "cell_type": "code",
   "execution_count": 130,
   "metadata": {
    "collapsed": false
   },
   "outputs": [
    {
     "name": "stdout",
     "output_type": "stream",
     "text": [
      "Load test borzen prices.\n",
      "Loading test borzen prices successful!\n"
     ]
    }
   ],
   "source": [
    "# Load price data\n",
    "prices = test_load_borzen_price()"
   ]
  },
  {
   "cell_type": "code",
   "execution_count": 131,
   "metadata": {
    "collapsed": false
   },
   "outputs": [
    {
     "data": {
      "text/plain": [
       "array([  53.  ,   52.  ,   51.  ,   47.27,   45.49,   17.67,   11.1 ,\n",
       "         15.47,   16.88,   35.1 ,   35.1 ,   48.02,   49.57,   48.69,\n",
       "         46.91,   49.43,   50.45,   53.3 ,   59.07,   61.71,   56.26,\n",
       "         55.  ,   54.  ,   52.  ,   51.8 ,   32.7 ,   28.11,   27.89,\n",
       "         27.73,   32.6 ,   47.01,   57.67,   64.15,   62.5 ,   61.7 ,\n",
       "         61.2 ,   55.69,   55.67,   61.19,   59.71,   60.96,   73.55,\n",
       "         63.1 ,   63.1 ,   70.11,   59.69,   54.  ,   49.  ,   36.02,\n",
       "         34.98,   33.64,   33.89,   33.5 ,   46.74,   55.  ,   59.73,\n",
       "         61.81,   61.81,   61.94,   63.8 ,   57.49,   56.74,   60.  ,\n",
       "         64.01,   68.94,   67.01,   61.99,   58.5 ,   60.  ,   59.48,\n",
       "         63.  ,   56.74,   62.36,   56.04,   54.1 ,   52.  ,   51.36,\n",
       "         53.02,   62.4 ,   68.  ,   73.01,   73.  ,   72.85,   72.51,\n",
       "         66.42,   69.16,   69.  ,   67.13,   68.26,   72.15,   76.8 ,\n",
       "         71.01,   69.84,   64.74,   62.36,   60.62,   51.22,   48.41,\n",
       "         50.  ,   47.46,   42.34,   45.18,   54.09,   65.03,   68.91,\n",
       "         70.49,   71.54,   70.2 ,   65.  ,   63.17,   67.  ,   70.51,\n",
       "         69.7 ,   73.92,   73.76,   65.15,   64.24,   63.3 ,   62.6 ,\n",
       "         56.  ,   40.84,   41.15,   43.77,   39.97,   40.81,   43.04,\n",
       "         45.37,   49.49,   59.92,   60.  ,   60.04,   57.7 ,   62.  ,\n",
       "         54.51,   50.94,   54.04,   57.52,   64.91,   59.92,   57.99,\n",
       "         50.  ,   50.  ,   63.1 ,   53.  ,   36.83,   34.37,   33.84,\n",
       "         33.83,   33.62,   32.96,   30.07,   33.58,   36.02,   55.51,\n",
       "         63.1 ,   65.7 ,   55.6 ,   61.9 ,   53.74,   53.26,   59.08,\n",
       "         69.99,   76.52,   78.28,   68.  ,   60.  ,   60.  ,   47.  ,\n",
       "         54.1 ,   34.14,   33.96,   50.22,   47.99,   48.  ,   49.69,\n",
       "         50.13,   51.5 ,   54.  ,   55.  ,   56.2 ,   55.1 ,   56.2 ,\n",
       "         54.  ,   53.  ,   54.08,   60.95,   70.51,   75.52,   73.2 ,\n",
       "         68.4 ,   63.2 ,   57.4 ,   40.  ,   39.05,   39.21,   39.24,\n",
       "         40.26,   52.24,   65.75,   78.01,   89.78,   80.  ,   80.  ,\n",
       "         80.  ,   95.12,   84.81,   78.7 ,  110.  ,   80.  ,   79.7 ,\n",
       "         83.87,   97.25,   77.07,   66.2 ,   66.6 ,   65.82,   59.99,\n",
       "         59.6 ,   59.09,   57.99,   59.1 ,   59.84,   67.71,   83.6 ,\n",
       "         95.  ,  107.55,  101.92,   87.63,   83.11,   80.  ,   86.09,\n",
       "         90.  ,   98.  ,  120.  ,  109.04,   98.32,   92.66,   91.58,\n",
       "         71.01,   73.15,   66.76,   64.79,   62.05,   58.21,   58.6 ,\n",
       "         62.29,   75.8 ,  103.26,  112.08,  110.63,  103.26,  130.07,\n",
       "         88.36,   82.26,   79.82,   87.15,   97.26,  160.  ,  112.08,\n",
       "         97.26,   85.  ,   80.97,   77.95,   77.51,   77.83,   76.6 ,\n",
       "         72.66,   71.58,   71.1 ,   71.88,   80.  ,   83.73,   96.43,\n",
       "        103.78,  101.92,   88.94,   82.94,   81.19,   86.09,   86.5 ,\n",
       "         90.  ,  104.4 ,   96.88,   87.5 ,   84.  ,   79.67,   73.24,\n",
       "         73.23,   72.28,   66.99,   60.7 ,   30.97,   52.94,   66.99,\n",
       "         87.84,   99.  ,   99.34,  106.39,  104.48,  110.32,   96.48,\n",
       "        102.16,   94.75,   96.02,   95.  ,  105.44,  105.82,   96.02,\n",
       "         87.76,   81.67,   81.9 ,   69.26,   75.  ,   65.13,   59.71,\n",
       "         55.25,   50.01,   52.93,   55.99,   36.1 ,   70.06,   72.89,\n",
       "         73.49,   69.19,   67.94,   61.23,   59.03,   58.41,   59.82,\n",
       "         72.89,   85.48,   81.79,   75.93,   69.75,   72.89,   70.31,\n",
       "         48.78,   46.  ,   31.41,   40.11,   47.  ,   50.  ,   51.  ,\n",
       "         52.19,   55.19,   63.91,   68.  ,   68.  ,   71.38,   63.91,\n",
       "         58.53,   57.51,   57.12,   70.  ,   88.  ,   82.38,   79.37,\n",
       "         78.  ,   75.83,   69.75,   45.07,   43.25,   39.08,   37.57,\n",
       "         38.24,   48.98,   66.83,  100.38,   99.76,  100.88,   99.97,\n",
       "         99.56,  105.  ,  105.59,  107.7 ,  103.84,  108.43,  120.  ,\n",
       "        124.83,  113.69,   97.2 ,   73.59,   56.  ,   45.06,   80.81,\n",
       "         69.61,   72.08,   58.28,   57.76,   69.63,   94.64,  127.06,\n",
       "        135.06,  135.7 ,  129.33,  124.  ,  111.26,  106.08,  108.74,\n",
       "        113.14,  120.22,  142.78,  143.09,  124.94,  110.38,   93.07,\n",
       "         94.5 ,   72.  ,   38.28,   71.65,   35.09,   35.07,   35.07,\n",
       "         36.62,   55.08,  110.01,  119.  ,  120.  ,  111.75,   98.42,\n",
       "         95.89,   91.02,   89.92,   99.  ,   92.45,  116.87,  130.  ,\n",
       "        115.71,   95.  ,   55.66,   48.86,   53.  ,   80.27,   74.6 ,\n",
       "         44.03,   39.7 ,   43.1 ,   72.35,   90.78,  103.  ,  119.1 ,\n",
       "        119.1 ,  119.06,  108.86,   93.  ,   92.73,   94.8 ,   92.  ,\n",
       "         99.  ,  100.1 ,  119.1 ,   90.75,   85.31,   98.2 ,   91.8 ,\n",
       "         84.54,   81.  ,   82.07,   79.75,   75.98,   69.8 ,   85.  ,\n",
       "        102.8 ,  118.  ,  144.49,  122.  ,  117.05,  105.15,   95.09,\n",
       "         94.7 ,   95.  ,  100.  ,   99.  ,  100.  ,  120.  ,  115.  ,\n",
       "         98.52,   94.7 ,   94.7 ,   94.98,   73.68,   78.58,   65.  ,\n",
       "         47.82,   43.07,   42.52,   70.  ,   70.49,   75.6 ,   84.  ,\n",
       "         79.9 ,   74.27,   63.52,   58.14,   58.14,   62.23,   65.  ,\n",
       "         87.36,   90.43,   90.  ,   70.77,   66.32,   64.15,   55.  ,\n",
       "         38.6 ,   38.22,   38.6 ,   37.43,   38.27,   37.83,   35.97,\n",
       "         39.24,   37.76,   69.02,   72.69,   75.  ,   75.19,   45.  ,\n",
       "         42.1 ,   58.53,   61.19,   67.33,   85.38,   92.12,   92.  ,\n",
       "         86.35,   79.  ,   73.  ,   45.17,   40.07,   39.43,   37.84,\n",
       "         38.4 ,   44.84,   80.59,  120.3 ,  129.72,  125.39,  117.57,\n",
       "        105.13,   96.72,   95.03,   90.7 ,   98.9 ,  101.36,  109.98,\n",
       "        131.32,  114.55,  101.2 ,   90.76,   86.2 ,   80.  ,   86.83,\n",
       "         82.07,   75.69,   70.15,   69.09,   76.  ,  102.9 ,  170.  ,\n",
       "        153.67,  150.1 ,  151.07,  135.  ,  121.58,  117.68,  112.21,\n",
       "        117.18,  120.  ,  131.01,  144.98,  125.96,  118.11,   96.3 ,\n",
       "         93.71,   56.61,   54.69,   46.58,   42.39,   40.94,   43.25,\n",
       "         48.03,  112.4 ,  151.14,  130.  ,  150.1 ,  150.1 ,  134.23,\n",
       "        122.9 ,  118.14,  116.87,  119.56,  120.  ,  122.9 ,  150.  ,\n",
       "        146.8 ,  120.  ,  100.67,   99.18,   68.  ,   47.52,   91.47,\n",
       "         41.8 ,   41.15,   41.8 ,   78.4 ,   54.15,  150.  ,  164.92,\n",
       "        150.  ,  126.09,  120.  ,  101.28,   88.8 ,   96.07,  113.12,\n",
       "        123.  ,  134.3 ,  139.  ,  121.3 ,   99.1 ,   90.2 ,   88.1 ,\n",
       "         83.65,   78.93,   69.2 ,   64.33,   60.71,   61.06,   64.33,\n",
       "         93.06,  150.  ,  120.  ,  109.27,  170.  ,  160.  ,  150.  ,\n",
       "        160.  ,  141.  ,  141.  ,  150.  ,  151.31,  132.53,  148.62,\n",
       "        150.  ,   72.68,   73.78,   70.3 ,   60.49,   57.36,   54.  ,\n",
       "         53.  ,   53.  ,   53.82,   55.  ,   59.59,   61.17,   64.08,\n",
       "         69.88,   65.92,   65.  ,   57.71,   54.11,   54.15,   58.09,\n",
       "         65.  ,   78.36,   80.  ,   72.03,   59.59,   60.77,   66.  ,\n",
       "         57.7 ,   54.8 ,   52.72,   47.51,   45.6 ,   45.99,   50.  ,\n",
       "         51.88,   53.38,   60.71,   66.  ,   66.03,   68.  ,   54.  ,\n",
       "         52.16,   52.09,   54.  ,   62.42,   75.96,   79.49,   80.  ,\n",
       "         69.49,   66.02,   58.25,   52.  ,   50.  ,   47.49,   47.7 ,\n",
       "         47.09,   51.41,   61.  ,   83.05,   95.97,   92.34,   79.98,\n",
       "         77.96,   76.19,   87.97,   89.11,   90.84,   85.  ,  110.  ,\n",
       "        120.  ,  103.97,  100.  ,  100.01,   80.09,   74.19,   61.23,\n",
       "         55.  ,   53.3 ,   52.  ,   52.  ,   54.  ,  135.  ,  147.2 ,\n",
       "        147.21,  131.32,  130.1 ,  140.54,  130.1 ,  120.01,  121.32,\n",
       "        130.01,  125.37,   98.34,  104.33,  101.25,  116.35,   60.92,\n",
       "         59.62,   59.2 ])"
      ]
     },
     "execution_count": 131,
     "metadata": {},
     "output_type": "execute_result"
    }
   ],
   "source": [
    "prices.prices"
   ]
  },
  {
   "cell_type": "code",
   "execution_count": null,
   "metadata": {
    "collapsed": true
   },
   "outputs": [],
   "source": []
  }
 ],
 "metadata": {
  "kernelspec": {
   "display_name": "Python 3",
   "language": "python",
   "name": "python3"
  },
  "language_info": {
   "codemirror_mode": {
    "name": "ipython",
    "version": 3
   },
   "file_extension": ".py",
   "mimetype": "text/x-python",
   "name": "python",
   "nbconvert_exporter": "python",
   "pygments_lexer": "ipython3",
   "version": "3.5.3"
  }
 },
 "nbformat": 4,
 "nbformat_minor": 0
}
