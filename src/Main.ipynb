{
 "cells": [
  {
   "cell_type": "code",
   "execution_count": 16,
   "metadata": {
    "collapsed": true
   },
   "outputs": [],
   "source": [
    "import csv\n",
    "import numpy as np\n",
    "from datetime import datetime"
   ]
  },
  {
   "cell_type": "code",
   "execution_count": 32,
   "metadata": {
    "collapsed": false
   },
   "outputs": [],
   "source": [
    "from pandas import read_csv\n",
    "from pandas import datetime as p_datetime\n",
    "from pandas.tools.plotting import autocorrelation_plot\n",
    "from statsmodels.tsa.arima_model import ARIMA\n",
    "from matplotlib import pyplot"
   ]
  },
  {
   "cell_type": "code",
   "execution_count": 19,
   "metadata": {
    "collapsed": false
   },
   "outputs": [],
   "source": [
    "%matplotlib inline  "
   ]
  },
  {
   "cell_type": "markdown",
   "metadata": {},
   "source": [
    "# Constants"
   ]
  },
  {
   "cell_type": "code",
   "execution_count": 16,
   "metadata": {
    "collapsed": true
   },
   "outputs": [],
   "source": [
    "STATION_ID_COL_NAME = 'station id'\n",
    "STATION_NAME_COL_NAME = 'station name'\n",
    "PARAM_T = 'T [°C]'\n",
    "PARAM_RAIN = 'količina padavin [mm]'"
   ]
  },
  {
   "cell_type": "markdown",
   "metadata": {},
   "source": [
    "# Initial Configuration"
   ]
  },
  {
   "cell_type": "raw",
   "metadata": {
    "collapsed": false
   },
   "source": [
    "import os\n",
    "# Set working directory to the root directory of the project\n",
    "os.chdir('/Users/ales/Desktop/GIT/Power-Price-Prediction/')\n",
    "# Check the change\n",
    "os.getcwd()"
   ]
  },
  {
   "cell_type": "markdown",
   "metadata": {},
   "source": [
    "# Utils"
   ]
  },
  {
   "cell_type": "code",
   "execution_count": 4,
   "metadata": {
    "collapsed": true
   },
   "outputs": [],
   "source": [
    "def ARSO_datetime_to_epoch(datetime_string):\n",
    "    \"\"\"Convert ARSO datetime into epoch time in seconds\"\"\"\n",
    "    utc_time = datetime.strptime(datetime_string, \"%Y-%m-%d %H:%M\")\n",
    "    epoch_time = (utc_time - datetime(1970, 1, 1)).total_seconds()\n",
    "    return epoch_time\n",
    "\n",
    "\n",
    "def ARSO_datetime_to_epoch_array(datetime_strings):\n",
    "    \"\"\"Convert list of ARSO datetimes into epoch time in seconds\"\"\"\n",
    "    return [ARSO_datetime_to_epoch(dt) for dt in datetime_strings]\n",
    "\n",
    "\n",
    "def borzen_datetime_to_epoch(datetime_string):\n",
    "    \"\"\"Convert borzen datetime into epoch time in seconds\"\"\"\n",
    "    try:\n",
    "        utc_time = datetime.strptime(datetime_string, \"%d.%m.%Y %H\")\n",
    "    except:\n",
    "        # strptime accepts [0,23] hour interval, while borzen data has [1,24] hour \n",
    "        # interval, thus modification of '24' into '00' is needed\n",
    "        if datetime_string[-2:] == \"24\":\n",
    "            datetime_string = datetime_string[:-2] + \"00\"\n",
    "            utc_time = datetime.strptime(datetime_string, \"%d.%m.%Y %H\")\n",
    "        else:\n",
    "            print(\"Error in datetime parsing: \" + datetime_string)\n",
    "    epoch_time = (utc_time - datetime(1970, 1, 1)).total_seconds()\n",
    "    return epoch_time"
   ]
  },
  {
   "cell_type": "markdown",
   "metadata": {},
   "source": [
    "# Library"
   ]
  },
  {
   "cell_type": "code",
   "execution_count": 5,
   "metadata": {
    "collapsed": false
   },
   "outputs": [],
   "source": [
    "class Station:\n",
    "    def __init__(self, station_id, station_name, header, data, data_timestamp_epoch):\n",
    "        self.station_is = station_id\n",
    "        self.station_name = station_name\n",
    "        self.header = header\n",
    "        self.data = data\n",
    "        self.size = len(data)\n",
    "        self.data_ts = data_timestamp_epoch\n",
    "    \n",
    "    def __str__(self):\n",
    "        return self.station_id + \" \" + self.station_name + \" size=\" + str(self.size)\n",
    "    \n",
    "    def __repr(self):\n",
    "        return self.station_id + \" \" + self.station_name + \" size=\" + str(self.size)"
   ]
  },
  {
   "cell_type": "code",
   "execution_count": 6,
   "metadata": {
    "collapsed": true
   },
   "outputs": [],
   "source": [
    "class Prices:\n",
    "    def __init__(self, prices, prices_timestamp_epoch):\n",
    "        self.prices = prices\n",
    "        self.timestamps = prices_timestamp_epoch"
   ]
  },
  {
   "cell_type": "code",
   "execution_count": 7,
   "metadata": {
    "collapsed": true
   },
   "outputs": [],
   "source": [
    "def test_load_ksedlo():\n",
    "    \"\"\"Load weather data for Korenjsko sedlo that has been dowloaded \n",
    "    from ARSO website. It removes lines that have any NaN values.\"\"\"\n",
    "    print('Start loading korenjsko sedlo')\n",
    "    import csv\n",
    "    test_file_ksedlo = '/Users/ales/Desktop/STUDIJ/DodatnoLeto/MatematikaZracunalnikom/WeatherDataTest/KorenjskoSedloTest'\n",
    "    # open file and read content in a csv format\n",
    "    csvfile = open(test_file_ksedlo, 'r')\n",
    "    reader = csv.reader(csvfile, delimiter=',')\n",
    "    data = list(reader)\n",
    "    # extract header and clean up data by removing empty lines\n",
    "    header_line = [el.strip() for el in data[0]]\n",
    "    station_id = header_line[0]\n",
    "    station_name = header_line[1]\n",
    "    header = header_line[2:]\n",
    "    # there are empty lines generated by parsing that needs to be removed\n",
    "    data_full = data[2:len(data):2]\n",
    "    data_empty = data[1:len(data):2]\n",
    "    # check if 'empty' lines are really empty\n",
    "    for lst in data_empty:\n",
    "        if len(lst) != 0:\n",
    "            # there is a non empty line\n",
    "            print(\"Warning: not empty line \" + lst)\n",
    "            return None\n",
    "    # remove station_id column, station_name column and datatime \n",
    "    # and create numpy matrix with floats\n",
    "    data_clean = []\n",
    "    for line in data_full:\n",
    "        try:\n",
    "            line_clean_float = list(map(float, line[3:]))\n",
    "            data_clean.append(line_clean_float)\n",
    "        except:\n",
    "            # lines that have missing values are removed\n",
    "            pass\n",
    "    data_clean_np = np.array(data_clean)\n",
    "    # extract datetime and convert it into timestamp epoch\n",
    "    data_timestamps = np.array([[ARSO_datetime_to_epoch(line[2])] \n",
    "                                for line in data_full])\n",
    "    # finish\n",
    "    print('Loading successful')\n",
    "    return Station(station_id, station_name, header, data_clean_np, data_timestamps)"
   ]
  },
  {
   "cell_type": "raw",
   "metadata": {},
   "source": [
    "def test_load_borzen_consumption():\n",
    "    \"\"\"Load power consumption of various suppliers.\"\"\"\n",
    "    print(\"Load test borzen consumption.\")\n",
    "    file_name = '/Users/ales/Desktop/STUDIJ/DodatnoLeto/MatematikaZracunalnikom/Borzen/Odjem/PDO_PRO_ODJ_2016.csv/01 2016-Table 1.csv'\n",
    "    # open file and read content in a csv format\n",
    "    csvfile = open(file_name, 'r')\n",
    "    reader = csv.reader(csvfile, delimiter=';')\n",
    "    # get header and clean data\n",
    "    data = list(reader)\n",
    "    header = data[7]\n",
    "    data_clean = data[9:]\n",
    "    # finish\n",
    "    print(\"Loading test borzen consumption successful!\")\n",
    "    return Table(header, data_clean)"
   ]
  },
  {
   "cell_type": "code",
   "execution_count": 8,
   "metadata": {
    "collapsed": true
   },
   "outputs": [],
   "source": [
    "def test_load_borzen_price():\n",
    "    \"\"\"Load borzen power prices.\"\"\"\n",
    "    print(\"Load test borzen prices.\")\n",
    "    file_name = '/Users/ales/Desktop/STUDIJ/DodatnoLeto/MatematikaZracunalnikom/Borzen/Cena/Cp_in_Cn_2017_/01 2017-Table 1.csv'\n",
    "    # open file and read content\n",
    "    csvfile = open(file_name, 'r')\n",
    "    reader = csv.reader(csvfile, delimiter=';')\n",
    "    data = list(reader)\n",
    "    # get header and clean data\n",
    "    header = data[7]\n",
    "    data_clean = data[9:]\n",
    "    # extract datetime and convert it into timestamp epoch; extract also SIPX values;\n",
    "    # warning, SIPX values uses comma as decimal marker\n",
    "    timestamps = []\n",
    "    prices = []\n",
    "    for line in data_clean:\n",
    "        timestamps.append(borzen_datetime_to_epoch(line[0]))\n",
    "        prices.append(float(line[1].strip().replace(\",\",\".\")))\n",
    "    # convert list into numpy array\n",
    "    timestamps = np.array(timestamps)\n",
    "    prices = np.array(prices)\n",
    "    # finish\n",
    "    print(\"Loading test borzen prices successful!\")\n",
    "    # TODO \n",
    "    return Prices(prices, timestamps)"
   ]
  },
  {
   "cell_type": "raw",
   "metadata": {},
   "source": [
    "def test_load_ksedlo():\n",
    "    \"\"\"Load weather data for Korenjsko sedlo that has been dowloaded \n",
    "    from ARSO website.\"\"\"\n",
    "    print('Start loading korenjsko sedlo')\n",
    "    import csv\n",
    "    test_file_ksedlo = '/Users/ales/Desktop/STUDIJ/DodatnoLeto/MatematikaZracunalnikom/WeatherDataTest/KorenjskoSedloTest'\n",
    "    # open file and read content in a csv format\n",
    "    csvfile = open(test_file_ksedlo, 'r')\n",
    "    reader = csv.reader(csvfile, delimiter=',')\n",
    "    data = list(reader)\n",
    "    # extract header and clean up data by removing empty lines\n",
    "    header = data[0]\n",
    "    data_clean = data[2:len(data):2]\n",
    "    data_deleted = data[1:len(data):2]\n",
    "    # check if deleted data is really empty\n",
    "    for lst in data_deleted:\n",
    "        if len(lst) != 0:\n",
    "            # there is a non empty line\n",
    "            print(\"Warning: not empty line \" + lst)\n",
    "            return None\n",
    "    # finish\n",
    "    print('Loading successful')\n",
    "    # TODO\n",
    "    return Table(header, data_clean) "
   ]
  },
  {
   "cell_type": "markdown",
   "metadata": {},
   "source": [
    "# Load Data"
   ]
  },
  {
   "cell_type": "code",
   "execution_count": 9,
   "metadata": {
    "collapsed": false
   },
   "outputs": [
    {
     "name": "stdout",
     "output_type": "stream",
     "text": [
      "Start loading korenjsko sedlo\n",
      "Loading successful\n"
     ]
    }
   ],
   "source": [
    "# Load training data ksedlo and power prices\n",
    "ksedlo_station = test_load_ksedlo()\n",
    "#consumption = DataLoader.test_load_borzen_consumption()"
   ]
  },
  {
   "cell_type": "code",
   "execution_count": 10,
   "metadata": {
    "collapsed": false
   },
   "outputs": [
    {
     "data": {
      "text/plain": [
       "1440"
      ]
     },
     "execution_count": 10,
     "metadata": {},
     "output_type": "execute_result"
    }
   ],
   "source": [
    "# Check data and remove unnecessary columns\n",
    "ksedlo_station.data\n",
    "ksedlo_station.size"
   ]
  },
  {
   "cell_type": "markdown",
   "metadata": {
    "collapsed": false
   },
   "source": [
    "# ARIMA "
   ]
  },
  {
   "cell_type": "markdown",
   "metadata": {},
   "source": [
    "The example of using ARIMA model in python is described here:\n",
    "http://machinelearningmastery.com/arima-for-time-series-forecasting-with-python/"
   ]
  },
  {
   "cell_type": "code",
   "execution_count": 11,
   "metadata": {
    "collapsed": false
   },
   "outputs": [
    {
     "name": "stdout",
     "output_type": "stream",
     "text": [
      "Load test borzen prices.\n",
      "Loading test borzen prices successful!\n"
     ]
    }
   ],
   "source": [
    "# Load price data\n",
    "prices = test_load_borzen_price()"
   ]
  },
  {
   "cell_type": "code",
   "execution_count": 40,
   "metadata": {
    "collapsed": false
   },
   "outputs": [
    {
     "data": {
      "text/html": [
       "<div>\n",
       "<table border=\"1\" class=\"dataframe\">\n",
       "  <thead>\n",
       "    <tr style=\"text-align: right;\">\n",
       "      <th></th>\n",
       "      <th>price</th>\n",
       "    </tr>\n",
       "  </thead>\n",
       "  <tbody>\n",
       "    <tr>\n",
       "      <th>2017-01-01 01:00:00</th>\n",
       "      <td>53.00</td>\n",
       "    </tr>\n",
       "    <tr>\n",
       "      <th>2017-01-01 02:00:00</th>\n",
       "      <td>52.00</td>\n",
       "    </tr>\n",
       "    <tr>\n",
       "      <th>2017-01-01 03:00:00</th>\n",
       "      <td>51.00</td>\n",
       "    </tr>\n",
       "    <tr>\n",
       "      <th>2017-01-01 04:00:00</th>\n",
       "      <td>47.27</td>\n",
       "    </tr>\n",
       "    <tr>\n",
       "      <th>2017-01-01 05:00:00</th>\n",
       "      <td>45.49</td>\n",
       "    </tr>\n",
       "  </tbody>\n",
       "</table>\n",
       "</div>"
      ],
      "text/plain": [
       "                     price\n",
       "2017-01-01 01:00:00  53.00\n",
       "2017-01-01 02:00:00  52.00\n",
       "2017-01-01 03:00:00  51.00\n",
       "2017-01-01 04:00:00  47.27\n",
       "2017-01-01 05:00:00  45.49"
      ]
     },
     "execution_count": 40,
     "metadata": {},
     "output_type": "execute_result"
    }
   ],
   "source": [
    "# generate pandas dataframe with prices and datetimes\n",
    "d = {'price': prices.prices}\n",
    "dt = pandas.to_datetime(prices.timestamps, unit = \"s\")\n",
    "series = pandas.DataFrame(data=d, index = dt)\n",
    "series.head()"
   ]
  },
  {
   "cell_type": "code",
   "execution_count": 41,
   "metadata": {
    "collapsed": false
   },
   "outputs": [
    {
     "data": {
      "text/plain": [
       "<matplotlib.axes._subplots.AxesSubplot at 0x1123780b8>"
      ]
     },
     "execution_count": 41,
     "metadata": {},
     "output_type": "execute_result"
    },
    {
     "data": {
      "image/png": "[encoded data removed]",
      "text/plain": [
       "<matplotlib.figure.Figure at 0x11235deb8>"
      ]
     },
     "metadata": {},
     "output_type": "display_data"
    }
   ],
   "source": [
    "# plot timeseries\n",
    "series.plot()"
   ]
  },
  {
   "cell_type": "code",
   "execution_count": 42,
   "metadata": {
    "collapsed": false
   },
   "outputs": [
    {
     "data": {
      "text/plain": [
       "<matplotlib.axes._subplots.AxesSubplot at 0x1123e0a20>"
      ]
     },
     "execution_count": 42,
     "metadata": {},
     "output_type": "execute_result"
    },
    {
     "data": {
      "image/png": "[encoded data removed]",
      "text/plain": [
       "<matplotlib.figure.Figure at 0x1123d8e80>"
      ]
     },
     "metadata": {},
     "output_type": "display_data"
    }
   ],
   "source": [
    "# plot autocorrelation\n",
    "autocorrelation_plot(series)"
   ]
  },
  {
   "cell_type": "code",
   "execution_count": 49,
   "metadata": {
    "collapsed": false
   },
   "outputs": [
    {
     "name": "stdout",
     "output_type": "stream",
     "text": [
      "                             ARIMA Model Results                              \n",
      "==============================================================================\n",
      "Dep. Variable:                D.price   No. Observations:                  743\n",
      "Model:                 ARIMA(5, 1, 0)   Log Likelihood               -2982.976\n",
      "Method:                       css-mle   S.D. of innovations             13.405\n",
      "Date:                Thu, 06 Apr 2017   AIC                           5979.953\n",
      "Time:                        14:19:23   BIC                           6012.228\n",
      "Sample:                    01-01-2017   HQIC                          5992.395\n",
      "                         - 01-31-2017                                         \n",
      "=================================================================================\n",
      "                    coef    std err          z      P>|z|      [95.0% Conf. Int.]\n",
      "---------------------------------------------------------------------------------\n",
      "const             0.0311      0.405      0.077      0.939        -0.763     0.825\n",
      "ar.L1.D.price     0.0710      0.036      1.981      0.048         0.001     0.141\n",
      "ar.L2.D.price    -0.0043      0.036     -0.120      0.904        -0.075     0.066\n",
      "ar.L3.D.price    -0.0073      0.036     -0.202      0.840        -0.078     0.064\n",
      "ar.L4.D.price    -0.0655      0.036     -1.805      0.072        -0.137     0.006\n",
      "ar.L5.D.price    -0.2092      0.036     -5.760      0.000        -0.280    -0.138\n",
      "                                    Roots                                    \n",
      "=============================================================================\n",
      "                 Real           Imaginary           Modulus         Frequency\n",
      "-----------------------------------------------------------------------------\n",
      "AR.1            1.0364           -0.7802j            1.2973           -0.1027\n",
      "AR.2            1.0364           +0.7802j            1.2973            0.1027\n",
      "AR.3           -0.4629           -1.3159j            1.3950           -0.3038\n",
      "AR.4           -0.4629           +1.3159j            1.3950            0.3038\n",
      "AR.5           -1.4600           -0.0000j            1.4600           -0.5000\n",
      "-----------------------------------------------------------------------------\n"
     ]
    }
   ],
   "source": [
    "# fit ARIMA model and display summary\n",
    "model = ARIMA(series, order=(5,1,0))\n",
    "model_fit = model.fit(disp=0)\n",
    "print(model_fit.summary())"
   ]
  },
  {
   "cell_type": "code",
   "execution_count": 52,
   "metadata": {
    "collapsed": false
   },
   "outputs": [
    {
     "data": {
      "text/plain": [
       "<matplotlib.axes._subplots.AxesSubplot at 0x112634a90>"
      ]
     },
     "execution_count": 52,
     "metadata": {},
     "output_type": "execute_result"
    },
    {
     "data": {
      "image/png": "[encoded data removed]",
      "text/plain": [
       "<matplotlib.figure.Figure at 0x11260b5f8>"
      ]
     },
     "metadata": {},
     "output_type": "display_data"
    }
   ],
   "source": [
    "# residuals\n",
    "residuals = pandas.DataFrame(model_fit.resid)\n",
    "residuals.plot()"
   ]
  },
  {
   "cell_type": "code",
   "execution_count": 53,
   "metadata": {
    "collapsed": false
   },
   "outputs": [
    {
     "data": {
      "text/plain": [
       "<matplotlib.axes._subplots.AxesSubplot at 0x1126f1208>"
      ]
     },
     "execution_count": 53,
     "metadata": {},
     "output_type": "execute_result"
    },
    {
     "data": {
      "image/png": "[encoded data removed]",
      "text/plain": [
       "<matplotlib.figure.Figure at 0x112629b00>"
      ]
     },
     "metadata": {},
     "output_type": "display_data"
    }
   ],
   "source": [
    "residuals.plot(kind='kde')"
   ]
  },
  {
   "cell_type": "code",
   "execution_count": 73,
   "metadata": {
    "collapsed": false
   },
   "outputs": [
    {
     "name": "stdout",
     "output_type": "stream",
     "text": [
      "(array([ 59.2752569 ,  59.800184  ,  71.55657486,  72.72604068,\n",
      "        72.87519344,  72.78227915,  71.92480735,  69.36549643,\n",
      "        68.97147561,  68.97346667,  69.10738805,  69.5044324 ,\n",
      "        70.13089535,  70.29274573,  70.32720926,  70.30812987,\n",
      "        70.21914793,  70.10879649,  70.10313667,  70.13566684]), array([ 13.40542159,  19.64302504,  24.33664132,  28.2096826 ,\n",
      "        31.21939184,  32.92029473,  34.41771667,  35.85129105,\n",
      "        37.25746556,  38.71630645,  40.30208349,  41.86264454,\n",
      "        43.36650775,  44.80671483,  46.17062334,  47.45885318,\n",
      "        48.70466543,  49.92002882,  51.11099398,  52.28305325]), array([[  33.00111339,   85.5494004 ],\n",
      "       [  21.30056238,   98.29980562],\n",
      "       [  23.85763438,  119.25551534],\n",
      "       [  17.43607877,  128.0160026 ],\n",
      "       [  11.68630982,  134.06407706],\n",
      "       [   8.25968712,  137.30487118],\n",
      "       [   4.46732224,  139.38229245],\n",
      "       [  -0.90174282,  139.63273568],\n",
      "       [  -4.05181505,  141.99476627],\n",
      "       [  -6.90909959,  144.85603293],\n",
      "       [  -9.88324409,  148.09802019],\n",
      "       [ -12.5448432 ,  151.55370801],\n",
      "       [ -14.86589798,  155.12768868],\n",
      "       [ -17.5268016 ,  158.11229306],\n",
      "       [ -20.16554963,  160.81996814],\n",
      "       [ -22.70951311,  163.32577284],\n",
      "       [ -25.24024219,  165.67853806],\n",
      "       [ -27.73266211,  167.95025509],\n",
      "       [ -30.07257075,  170.27884409],\n",
      "       [ -32.33723453,  172.60856822]]))\n"
     ]
    }
   ],
   "source": [
    "n = 20\n",
    "fc_group = model_fit.forecast(n)\n",
    "print(fc_group)"
   ]
  },
  {
   "cell_type": "code",
   "execution_count": 74,
   "metadata": {
    "collapsed": false
   },
   "outputs": [],
   "source": [
    "# forecast; returns array of forecasts, array of standard error and array of 95% confidence interval\n",
    "fc = fc_group[0]\n",
    "se = fc_group[1]\n",
    "ci = fc_group[2]"
   ]
  },
  {
   "cell_type": "code",
   "execution_count": 75,
   "metadata": {
    "collapsed": false
   },
   "outputs": [
    {
     "data": {
      "text/plain": [
       "[<matplotlib.lines.Line2D at 0x112c5c828>]"
      ]
     },
     "execution_count": 75,
     "metadata": {},
     "output_type": "execute_result"
    },
    {
     "data": {
      "image/png": "[encoded data removed]",
      "text/plain": [
       "<matplotlib.figure.Figure at 0x112a9f240>"
      ]
     },
     "metadata": {},
     "output_type": "display_data"
    }
   ],
   "source": [
    "pyplot.plot(fc)"
   ]
  },
  {
   "cell_type": "code",
   "execution_count": null,
   "metadata": {
    "collapsed": true
   },
   "outputs": [],
   "source": []
  }
 ],
 "metadata": {
  "kernelspec": {
   "display_name": "Python 3",
   "language": "python",
   "name": "python3"
  },
  "language_info": {
   "codemirror_mode": {
    "name": "ipython",
    "version": 3
   },
   "file_extension": ".py",
   "mimetype": "text/x-python",
   "name": "python",
   "nbconvert_exporter": "python",
   "pygments_lexer": "ipython3",
   "version": "3.5.3"
  }
 },
 "nbformat": 4,
 "nbformat_minor": 0
}
