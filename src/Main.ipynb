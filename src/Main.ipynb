{
 "cells": [
  {
   "cell_type": "code",
   "execution_count": 115,
   "metadata": {
    "collapsed": true
   },
   "outputs": [],
   "source": [
    "import csv\n",
    "import numpy as np\n",
    "from datetime import datetime\n",
    "import sklearn"
   ]
  },
  {
   "cell_type": "code",
   "execution_count": 2,
   "metadata": {
    "collapsed": false
   },
   "outputs": [],
   "source": [
    "import pandas\n",
    "from pandas import read_csv\n",
    "from pandas import datetime as p_datetime\n",
    "from pandas.tools.plotting import autocorrelation_plot\n",
    "from statsmodels.tsa.arima_model import ARIMA\n",
    "from matplotlib import pyplot"
   ]
  },
  {
   "cell_type": "code",
   "execution_count": 3,
   "metadata": {
    "collapsed": false
   },
   "outputs": [],
   "source": [
    "%matplotlib inline  "
   ]
  },
  {
   "cell_type": "markdown",
   "metadata": {},
   "source": [
    "# Constants"
   ]
  },
  {
   "cell_type": "code",
   "execution_count": 4,
   "metadata": {
    "collapsed": true
   },
   "outputs": [],
   "source": [
    "STATION_ID_COL_NAME = 'station id'\n",
    "STATION_NAME_COL_NAME = 'station name'\n",
    "PARAM_T = 'T [°C]'\n",
    "PARAM_RAIN = 'količina padavin [mm]'"
   ]
  },
  {
   "cell_type": "markdown",
   "metadata": {},
   "source": [
    "# Initial Configuration"
   ]
  },
  {
   "cell_type": "raw",
   "metadata": {
    "collapsed": false
   },
   "source": [
    "import os\n",
    "# Set working directory to the root directory of the project\n",
    "os.chdir('/Users/ales/Desktop/GIT/Power-Price-Prediction/')\n",
    "# Check the change\n",
    "os.getcwd()"
   ]
  },
  {
   "cell_type": "markdown",
   "metadata": {},
   "source": [
    "# Utils"
   ]
  },
  {
   "cell_type": "code",
   "execution_count": 5,
   "metadata": {
    "collapsed": true
   },
   "outputs": [],
   "source": [
    "def ARSO_datetime_to_epoch(datetime_string):\n",
    "    \"\"\"Convert ARSO datetime into epoch time in seconds\"\"\"\n",
    "    utc_time = datetime.strptime(datetime_string, \"%Y-%m-%d %H:%M\")\n",
    "    epoch_time = (utc_time - datetime(1970, 1, 1)).total_seconds()\n",
    "    return epoch_time\n",
    "\n",
    "\n",
    "def ARSO_datetime_to_epoch_array(datetime_strings):\n",
    "    \"\"\"Convert list of ARSO datetimes into epoch time in seconds\"\"\"\n",
    "    return [ARSO_datetime_to_epoch(dt) for dt in datetime_strings]\n",
    "\n",
    "def convert_slash_into_dot(datetime_string):\n",
    "    return datetime_string.replace('/', '.')\n",
    "\n",
    "def borzen_datetime_to_datetime(datetime_string):\n",
    "    # synchronize all dates\n",
    "    datetime_string = convert_slash_into_dot(datetime_string)\n",
    "    # convert to epoch\n",
    "    try:\n",
    "        utc_time = datetime.strptime(datetime_string, \"%d.%m.%Y %H\")\n",
    "        return utc_time\n",
    "    except:\n",
    "        # strptime accepts [0,23] hour interval, while borzen data has [1,24] hour \n",
    "        # interval, thus modification of '24' into '00' is needed\n",
    "        if datetime_string[-2:] == \"24\":\n",
    "            datetime_string = datetime_string[:-2] + \"00\"\n",
    "            utc_time = datetime.strptime(datetime_string, \"%d.%m.%Y %H\")\n",
    "            return utc_time\n",
    "        else:\n",
    "            print(\"Error in datetime parsing: \" + datetime_string)\n",
    "\n",
    "def datetime_to_epoch(datetime_):\n",
    "    \"\"\"Convert borzen datetime into epoch time in seconds\"\"\"\n",
    "    epoch_time = (datetime_ - datetime(1970, 1, 1)).total_seconds()\n",
    "    return epoch_time"
   ]
  },
  {
   "cell_type": "markdown",
   "metadata": {},
   "source": [
    "# Library"
   ]
  },
  {
   "cell_type": "code",
   "execution_count": 6,
   "metadata": {
    "collapsed": false
   },
   "outputs": [],
   "source": [
    "class Station:\n",
    "    def __init__(self, station_id, station_name, header, data, data_timestamp_epoch):\n",
    "        self.station_is = station_id\n",
    "        self.station_name = station_name\n",
    "        self.header = header\n",
    "        self.data = data\n",
    "        self.size = len(data)\n",
    "        self.data_ts = data_timestamp_epoch\n",
    "    \n",
    "    def __str__(self):\n",
    "        return self.station_id + \" \" + self.station_name + \" size=\" + str(self.size)\n",
    "    \n",
    "    def __repr(self):\n",
    "        return self.station_id + \" \" + self.station_name + \" size=\" + str(self.size)"
   ]
  },
  {
   "cell_type": "code",
   "execution_count": 7,
   "metadata": {
    "collapsed": true
   },
   "outputs": [],
   "source": [
    "class Prices:\n",
    "    def __init__(self, prices, prices_timestamp_epoch):\n",
    "        self.prices = prices\n",
    "        self.timestamps = prices_timestamp_epoch"
   ]
  },
  {
   "cell_type": "code",
   "execution_count": 8,
   "metadata": {
    "collapsed": true
   },
   "outputs": [],
   "source": [
    "def test_load_ksedlo():\n",
    "    \"\"\"Load weather data for Korenjsko sedlo that has been dowloaded \n",
    "    from ARSO website. It removes lines that have any NaN values.\"\"\"\n",
    "    print('Start loading korenjsko sedlo')\n",
    "    import csv\n",
    "    test_file_ksedlo = '/Users/ales/Desktop/STUDIJ/DodatnoLeto/MatematikaZracunalnikom/WeatherDataTest/KorenjskoSedloTest'\n",
    "    # open file and read content in a csv format\n",
    "    csvfile = open(test_file_ksedlo, 'r')\n",
    "    reader = csv.reader(csvfile, delimiter=',')\n",
    "    data = list(reader)\n",
    "    # extract header and clean up data by removing empty lines\n",
    "    header_line = [el.strip() for el in data[0]]\n",
    "    station_id = header_line[0]\n",
    "    station_name = header_line[1]\n",
    "    header = header_line[2:]\n",
    "    # there are empty lines generated by parsing that needs to be removed\n",
    "    data_full = data[2:len(data):2]\n",
    "    data_empty = data[1:len(data):2]\n",
    "    # check if 'empty' lines are really empty\n",
    "    for lst in data_empty:\n",
    "        if len(lst) != 0:\n",
    "            # there is a non empty line\n",
    "            print(\"Warning: not empty line \" + lst)\n",
    "            return None\n",
    "    # remove station_id column, station_name column and datatime \n",
    "    # and create numpy matrix with floats\n",
    "    data_clean = []\n",
    "    for line in data_full:\n",
    "        try:\n",
    "            line_clean_float = list(map(float, line[3:]))\n",
    "            data_clean.append(line_clean_float)\n",
    "        except:\n",
    "            # lines that have missing values are removed\n",
    "            pass\n",
    "    data_clean_np = np.array(data_clean)\n",
    "    # extract datetime and convert it into timestamp epoch\n",
    "    data_timestamps = np.array([[ARSO_datetime_to_epoch(line[2])] \n",
    "                                for line in data_full])\n",
    "    # finish\n",
    "    print('Loading successful')\n",
    "    return Station(station_id, station_name, header, data_clean_np, data_timestamps)"
   ]
  },
  {
   "cell_type": "raw",
   "metadata": {},
   "source": [
    "def test_load_borzen_consumption():\n",
    "    \"\"\"Load power consumption of various suppliers.\"\"\"\n",
    "    print(\"Load test borzen consumption.\")\n",
    "    file_name = '/Users/ales/Desktop/STUDIJ/DodatnoLeto/MatematikaZracunalnikom/Borzen/Odjem/PDO_PRO_ODJ_2016.csv/01 2016-Table 1.csv'\n",
    "    # open file and read content in a csv format\n",
    "    csvfile = open(file_name, 'r')\n",
    "    reader = csv.reader(csvfile, delimiter=';')\n",
    "    # get header and clean data\n",
    "    data = list(reader)\n",
    "    header = data[7]\n",
    "    data_clean = data[9:]\n",
    "    # finish\n",
    "    print(\"Loading test borzen consumption successful!\")\n",
    "    return Table(header, data_clean)"
   ]
  },
  {
   "cell_type": "code",
   "execution_count": 95,
   "metadata": {
    "collapsed": true
   },
   "outputs": [],
   "source": [
    "def test_load_borzen_price_january(b_timestamp = True):\n",
    "    \"\"\"Load borzen power prices.\"\"\"\n",
    "    print(\"Load test borzen prices.\")\n",
    "    file_name = '/Users/ales/Desktop/STUDIJ/DodatnoLeto/MatematikaZracunalnikom/Borzen/Cena/Cp_in_Cn_2017_/01 2017-Table 1.csv'\n",
    "    # open file and read content\n",
    "    csvfile = open(file_name, 'r')\n",
    "    reader = csv.reader(csvfile, delimiter=';')\n",
    "    data = list(reader)\n",
    "    # get header and clean data\n",
    "    header = data[7]\n",
    "    data_clean = data[9:]\n",
    "    # extract datetime and convert it into timestamp epoch; extract also SIPX values;\n",
    "    # warning, SIPX values uses comma as decimal marker\n",
    "    timestamps = []\n",
    "    prices = []\n",
    "    for line in data_clean:\n",
    "        datetime = line[0]\n",
    "        if b_timestamp:\n",
    "            datetime = borzen_datetime_to_datetime(datetime)\n",
    "            datetime = datetime_to_epoch(datetime) \n",
    "        timestamps.append(datetime)\n",
    "        prices.append(float(line[1].strip().replace(\",\",\".\")))\n",
    "    # convert list into numpy array\n",
    "    timestamps = np.array(timestamps)\n",
    "    prices = np.array(prices)\n",
    "    # finish\n",
    "    print(\"Loading test borzen prices successful!\")\n",
    "    # TODO \n",
    "    return Prices(prices, timestamps)"
   ]
  },
  {
   "cell_type": "code",
   "execution_count": 60,
   "metadata": {
    "collapsed": true
   },
   "outputs": [],
   "source": [
    "def load_borzen_table(file_name, b_timestamp = True):\n",
    "    \"\"\"Load borzen power prices.\"\"\"\n",
    "    file_name_ = file_name.split(\"/\")[-1]\n",
    "    print(\"Load \" + file_name_)\n",
    "    # open file and read content\n",
    "    csvfile = open(file_name, 'r')\n",
    "    reader = csv.reader(csvfile, delimiter=';')\n",
    "    data = list(reader)\n",
    "    # get header and clean data\n",
    "    header = data[7]\n",
    "    data_clean = data[9:]\n",
    "    # extract datetime and convert it into timestamp epoch; extract also SIPX values;\n",
    "    # warning, SIPX values uses comma as decimal marker\n",
    "    values = None\n",
    "    for line in data_clean:\n",
    "        datetime = line[0]\n",
    "        if b_timestamp:\n",
    "            datetime = borzen_datetime_to_datetime(line[0])\n",
    "            datetime = datetime_to_epoch(datetime)\n",
    "        price = float(line[1].strip().replace(\",\",\".\"))\n",
    "        try:\n",
    "            values = np.vstack((values, [datetime, price]))\n",
    "        except:\n",
    "            # assign directly at the beginning\n",
    "            values = np.array([datetime, price])\n",
    "    # finish\n",
    "    print(\"Loading prices successful!\")\n",
    "    return np.array(values)"
   ]
  },
  {
   "cell_type": "code",
   "execution_count": 39,
   "metadata": {
    "collapsed": false
   },
   "outputs": [],
   "source": [
    "def load_borzen_tables(b_timestamp = True):\n",
    "    file_names = [\n",
    "        '/Users/ales/Desktop/STUDIJ/DodatnoLeto/MatematikaZracunalnikom/Borzen/Cena/Cp_in_Cn_2016_/01 2016-Table 1.csv',\n",
    "        '/Users/ales/Desktop/STUDIJ/DodatnoLeto/MatematikaZracunalnikom/Borzen/Cena/Cp_in_Cn_2016_/02 2016-Table 1.csv',\n",
    "        '/Users/ales/Desktop/STUDIJ/DodatnoLeto/MatematikaZracunalnikom/Borzen/Cena/Cp_in_Cn_2016_/03 2016-Table 1.csv',\n",
    "        '/Users/ales/Desktop/STUDIJ/DodatnoLeto/MatematikaZracunalnikom/Borzen/Cena/Cp_in_Cn_2016_/04 2016-Table 1.csv',\n",
    "        '/Users/ales/Desktop/STUDIJ/DodatnoLeto/MatematikaZracunalnikom/Borzen/Cena/Cp_in_Cn_2016_/05 2016-Table 1.csv',\n",
    "        '/Users/ales/Desktop/STUDIJ/DodatnoLeto/MatematikaZracunalnikom/Borzen/Cena/Cp_in_Cn_2016_/06 2016-Table 1.csv',\n",
    "        '/Users/ales/Desktop/STUDIJ/DodatnoLeto/MatematikaZracunalnikom/Borzen/Cena/Cp_in_Cn_2016_/07 2016-Table 1.csv',\n",
    "        '/Users/ales/Desktop/STUDIJ/DodatnoLeto/MatematikaZracunalnikom/Borzen/Cena/Cp_in_Cn_2016_/08 2016-Table 1.csv',\n",
    "        '/Users/ales/Desktop/STUDIJ/DodatnoLeto/MatematikaZracunalnikom/Borzen/Cena/Cp_in_Cn_2016_/09 2016-Table 1.csv',\n",
    "        '/Users/ales/Desktop/STUDIJ/DodatnoLeto/MatematikaZracunalnikom/Borzen/Cena/Cp_in_Cn_2016_/10 2016-Table 1.csv',\n",
    "        '/Users/ales/Desktop/STUDIJ/DodatnoLeto/MatematikaZracunalnikom/Borzen/Cena/Cp_in_Cn_2016_/11 2016-Table 1.csv',\n",
    "        '/Users/ales/Desktop/STUDIJ/DodatnoLeto/MatematikaZracunalnikom/Borzen/Cena/Cp_in_Cn_2016_/12 2016-Table 1.csv'\n",
    "        #'/Users/ales/Desktop/STUDIJ/DodatnoLeto/MatematikaZracunalnikom/Borzen/Cena/Cp_in_Cn_2017_/01 2017-Table 1.csv'\n",
    "    ]\n",
    "    \n",
    "    values = None\n",
    "    for file_name in file_names:\n",
    "        result = load_borzen_table(file_name, b_timestamp)\n",
    "        try:\n",
    "            values = np.vstack((values, result))\n",
    "        except:\n",
    "            values = result\n",
    "    return values"
   ]
  },
  {
   "cell_type": "raw",
   "metadata": {},
   "source": [
    "def test_load_ksedlo():\n",
    "    \"\"\"Load weather data for Korenjsko sedlo that has been dowloaded \n",
    "    from ARSO website.\"\"\"\n",
    "    print('Start loading korenjsko sedlo')\n",
    "    import csv\n",
    "    test_file_ksedlo = '/Users/ales/Desktop/STUDIJ/DodatnoLeto/MatematikaZracunalnikom/WeatherDataTest/KorenjskoSedloTest'\n",
    "    # open file and read content in a csv format\n",
    "    csvfile = open(test_file_ksedlo, 'r')\n",
    "    reader = csv.reader(csvfile, delimiter=',')\n",
    "    data = list(reader)\n",
    "    # extract header and clean up data by removing empty lines\n",
    "    header = data[0]\n",
    "    data_clean = data[2:len(data):2]\n",
    "    data_deleted = data[1:len(data):2]\n",
    "    # check if deleted data is really empty\n",
    "    for lst in data_deleted:\n",
    "        if len(lst) != 0:\n",
    "            # there is a non empty line\n",
    "            print(\"Warning: not empty line \" + lst)\n",
    "            return None\n",
    "    # finish\n",
    "    print('Loading successful')\n",
    "    # TODO\n",
    "    return Table(header, data_clean) "
   ]
  },
  {
   "cell_type": "markdown",
   "metadata": {},
   "source": [
    "# Load Data"
   ]
  },
  {
   "cell_type": "code",
   "execution_count": 12,
   "metadata": {
    "collapsed": false
   },
   "outputs": [
    {
     "name": "stdout",
     "output_type": "stream",
     "text": [
      "Start loading korenjsko sedlo\n",
      "Loading successful\n"
     ]
    }
   ],
   "source": [
    "# Load training data ksedlo and power prices\n",
    "ksedlo_station = test_load_ksedlo()\n",
    "#consumption = DataLoader.test_load_borzen_consumption()"
   ]
  },
  {
   "cell_type": "code",
   "execution_count": 13,
   "metadata": {
    "collapsed": false
   },
   "outputs": [
    {
     "data": {
      "text/plain": [
       "1440"
      ]
     },
     "execution_count": 13,
     "metadata": {},
     "output_type": "execute_result"
    }
   ],
   "source": [
    "# Check data and remove unnecessary columns\n",
    "ksedlo_station.data\n",
    "ksedlo_station.size"
   ]
  },
  {
   "cell_type": "markdown",
   "metadata": {
    "collapsed": false
   },
   "source": [
    "# ARIMA "
   ]
  },
  {
   "cell_type": "markdown",
   "metadata": {},
   "source": [
    "The example of using ARIMA model in python is described here:\n",
    "http://machinelearningmastery.com/arima-for-time-series-forecasting-with-python/"
   ]
  },
  {
   "cell_type": "code",
   "execution_count": 34,
   "metadata": {
    "collapsed": false
   },
   "outputs": [
    {
     "name": "stdout",
     "output_type": "stream",
     "text": [
      "Load 01 2016-Table 1.csv\n",
      "Loading prices successful!\n",
      "Load 02 2016-Table 1.csv\n",
      "Loading prices successful!\n",
      "Load 03 2016-Table 1.csv\n",
      "Loading prices successful!\n",
      "Load 04 2016-Table 1.csv\n",
      "Loading prices successful!\n",
      "Load 05 2016-Table 1.csv\n",
      "Loading prices successful!\n",
      "Load 06 2016-Table 1.csv\n",
      "Loading prices successful!\n",
      "Load 07 2016-Table 1.csv\n",
      "Loading prices successful!\n",
      "Load 08 2016-Table 1.csv\n",
      "Loading prices successful!\n",
      "Load 09 2016-Table 1.csv\n",
      "Loading prices successful!\n",
      "Load 10 2016-Table 1.csv\n",
      "Loading prices successful!\n",
      "Load 11 2016-Table 1.csv\n",
      "Loading prices successful!\n",
      "Load 12 2016-Table 1.csv\n",
      "Loading prices successful!\n"
     ]
    }
   ],
   "source": [
    "# Load price data\n",
    "prices = load_borzen_tables()\n",
    "prices = Prices(prices[:, 1], prices[:, 0])"
   ]
  },
  {
   "cell_type": "code",
   "execution_count": 35,
   "metadata": {
    "collapsed": false
   },
   "outputs": [
    {
     "data": {
      "text/plain": [
       "array([ 49.62,  43.5 ,  38.63, ...,  33.02,  33.71,  46.  ])"
      ]
     },
     "execution_count": 35,
     "metadata": {},
     "output_type": "execute_result"
    }
   ],
   "source": [
    "prices.prices"
   ]
  },
  {
   "cell_type": "code",
   "execution_count": 15,
   "metadata": {
    "collapsed": false
   },
   "outputs": [
    {
     "data": {
      "text/html": [
       "<div>\n",
       "<table border=\"1\" class=\"dataframe\">\n",
       "  <thead>\n",
       "    <tr style=\"text-align: right;\">\n",
       "      <th></th>\n",
       "      <th>price</th>\n",
       "    </tr>\n",
       "  </thead>\n",
       "  <tbody>\n",
       "    <tr>\n",
       "      <th>2016-01-01 01:00:00</th>\n",
       "      <td>49.62</td>\n",
       "    </tr>\n",
       "    <tr>\n",
       "      <th>2016-01-01 02:00:00</th>\n",
       "      <td>43.50</td>\n",
       "    </tr>\n",
       "    <tr>\n",
       "      <th>2016-01-01 03:00:00</th>\n",
       "      <td>38.63</td>\n",
       "    </tr>\n",
       "    <tr>\n",
       "      <th>2016-01-01 04:00:00</th>\n",
       "      <td>36.80</td>\n",
       "    </tr>\n",
       "    <tr>\n",
       "      <th>2016-01-01 05:00:00</th>\n",
       "      <td>34.50</td>\n",
       "    </tr>\n",
       "  </tbody>\n",
       "</table>\n",
       "</div>"
      ],
      "text/plain": [
       "                     price\n",
       "2016-01-01 01:00:00  49.62\n",
       "2016-01-01 02:00:00  43.50\n",
       "2016-01-01 03:00:00  38.63\n",
       "2016-01-01 04:00:00  36.80\n",
       "2016-01-01 05:00:00  34.50"
      ]
     },
     "execution_count": 15,
     "metadata": {},
     "output_type": "execute_result"
    }
   ],
   "source": [
    "# generate pandas dataframe with prices and datetimes\n",
    "d = {'price': prices.prices}\n",
    "dt = pandas.to_datetime(prices.timestamps, unit = \"s\")\n",
    "series = pandas.DataFrame(data=d, index = dt)\n",
    "series.head()"
   ]
  },
  {
   "cell_type": "code",
   "execution_count": 16,
   "metadata": {
    "collapsed": false
   },
   "outputs": [
    {
     "data": {
      "text/plain": [
       "<matplotlib.axes._subplots.AxesSubplot at 0x10776c978>"
      ]
     },
     "execution_count": 16,
     "metadata": {},
     "output_type": "execute_result"
    },
    {
     "data": {
      "image/png": "[encoded data removed]",
      "text/plain": [
       "<matplotlib.figure.Figure at 0x11161f6a0>"
      ]
     },
     "metadata": {},
     "output_type": "display_data"
    }
   ],
   "source": [
    "# plot timeseries\n",
    "series.plot()"
   ]
  },
  {
   "cell_type": "code",
   "execution_count": 17,
   "metadata": {
    "collapsed": false
   },
   "outputs": [
    {
     "data": {
      "text/plain": [
       "<matplotlib.axes._subplots.AxesSubplot at 0x111426fd0>"
      ]
     },
     "execution_count": 17,
     "metadata": {},
     "output_type": "execute_result"
    },
    {
     "data": {
      "image/png": "[encoded data removed]",
      "text/plain": [
       "<matplotlib.figure.Figure at 0x1113b60b8>"
      ]
     },
     "metadata": {},
     "output_type": "display_data"
    }
   ],
   "source": [
    "# plot autocorrelation\n",
    "autocorrelation_plot(series)"
   ]
  },
  {
   "cell_type": "code",
   "execution_count": 18,
   "metadata": {
    "collapsed": false
   },
   "outputs": [
    {
     "name": "stdout",
     "output_type": "stream",
     "text": [
      "                             ARIMA Model Results                              \n",
      "==============================================================================\n",
      "Dep. Variable:                D.price   No. Observations:                 8783\n",
      "Model:                 ARIMA(5, 1, 0)   Log Likelihood              -27532.093\n",
      "Method:                       css-mle   S.D. of innovations              5.561\n",
      "Date:                Sun, 16 Apr 2017   AIC                          55078.187\n",
      "Time:                        00:44:55   BIC                          55127.751\n",
      "Sample:                    01-01-2016   HQIC                         55095.073\n",
      "                         - 12-31-2016                                         \n",
      "=================================================================================\n",
      "                    coef    std err          z      P>|z|      [0.025      0.975]\n",
      "---------------------------------------------------------------------------------\n",
      "const         -9.635e-06      0.053     -0.000      1.000      -0.103       0.103\n",
      "ar.L1.D.price     0.0450      0.011      4.234      0.000       0.024       0.066\n",
      "ar.L2.D.price     0.0498      0.011      4.695      0.000       0.029       0.071\n",
      "ar.L3.D.price    -0.0497      0.011     -4.687      0.000      -0.070      -0.029\n",
      "ar.L4.D.price    -0.0786      0.011     -7.411      0.000      -0.099      -0.058\n",
      "ar.L5.D.price    -0.0939      0.011     -8.832      0.000      -0.115      -0.073\n",
      "                                    Roots                                    \n",
      "=============================================================================\n",
      "                 Real           Imaginary           Modulus         Frequency\n",
      "-----------------------------------------------------------------------------\n",
      "AR.1            1.1214           -0.8984j            1.4369           -0.1075\n",
      "AR.2            1.1214           +0.8984j            1.4369            0.1075\n",
      "AR.3           -1.7040           -0.0000j            1.7040           -0.5000\n",
      "AR.4           -0.6879           -1.5983j            1.7400           -0.3147\n",
      "AR.5           -0.6879           +1.5983j            1.7400            0.3147\n",
      "-----------------------------------------------------------------------------\n"
     ]
    }
   ],
   "source": [
    "# fit ARIMA model and display summary\n",
    "model = ARIMA(series, order=(5,1,0))\n",
    "model_fit = model.fit(disp=0)\n",
    "print(model_fit.summary())"
   ]
  },
  {
   "cell_type": "code",
   "execution_count": 19,
   "metadata": {
    "collapsed": false
   },
   "outputs": [
    {
     "data": {
      "text/plain": [
       "<matplotlib.axes._subplots.AxesSubplot at 0x1114e3d68>"
      ]
     },
     "execution_count": 19,
     "metadata": {},
     "output_type": "execute_result"
    },
    {
     "data": {
      "image/png": "[encoded data removed]",
      "text/plain": [
       "<matplotlib.figure.Figure at 0x11179aef0>"
      ]
     },
     "metadata": {},
     "output_type": "display_data"
    }
   ],
   "source": [
    "# residuals\n",
    "residuals = pandas.DataFrame(model_fit.resid)\n",
    "residuals.plot()"
   ]
  },
  {
   "cell_type": "code",
   "execution_count": 20,
   "metadata": {
    "collapsed": false
   },
   "outputs": [
    {
     "data": {
      "text/plain": [
       "<matplotlib.axes._subplots.AxesSubplot at 0x1113a6c88>"
      ]
     },
     "execution_count": 20,
     "metadata": {},
     "output_type": "execute_result"
    },
    {
     "data": {
      "image/png": "[encoded data removed]",
      "text/plain": [
       "<matplotlib.figure.Figure at 0x111794b70>"
      ]
     },
     "metadata": {},
     "output_type": "display_data"
    }
   ],
   "source": [
    "residuals.plot(kind='kde')"
   ]
  },
  {
   "cell_type": "code",
   "execution_count": 21,
   "metadata": {
    "collapsed": false
   },
   "outputs": [],
   "source": [
    "# forecast; returns array of forecasts, array of standard error and array of 95% confidence interval\n",
    "n = 48\n",
    "fc_group = model_fit.forecast(n)\n",
    "#print(fc_group)\n",
    "\n",
    "# extract\n",
    "fc = fc_group[0]\n",
    "se = fc_group[1]\n",
    "ci = fc_group[2]\n",
    "#print(ci)"
   ]
  },
  {
   "cell_type": "code",
   "execution_count": 22,
   "metadata": {
    "collapsed": false
   },
   "outputs": [
    {
     "name": "stdout",
     "output_type": "stream",
     "text": [
      "Load 01 2017-Table 1.csv\n",
      "Loading prices successful!\n"
     ]
    }
   ],
   "source": [
    "# load true values\n",
    "file_name = '/Users/ales/Desktop/STUDIJ/DodatnoLeto/MatematikaZracunalnikom/Borzen/Cena/Cp_in_Cn_2017_/01 2017-Table 1.csv'\n",
    "true_values = load_borzen_table(file_name)"
   ]
  },
  {
   "cell_type": "code",
   "execution_count": 23,
   "metadata": {
    "collapsed": false
   },
   "outputs": [],
   "source": [
    "# compare forecast and true values\n",
    "true_prices = true_values[:n, 1]"
   ]
  },
  {
   "cell_type": "code",
   "execution_count": 24,
   "metadata": {
    "collapsed": false
   },
   "outputs": [
    {
     "data": {
      "text/plain": [
       "<matplotlib.collections.PolyCollection at 0x111cae9e8>"
      ]
     },
     "execution_count": 24,
     "metadata": {},
     "output_type": "execute_result"
    },
    {
     "data": {
      "image/png": "[encoded data removed]",
      "text/plain": [
       "<matplotlib.figure.Figure at 0x111d13588>"
      ]
     },
     "metadata": {},
     "output_type": "display_data"
    }
   ],
   "source": [
    "# fig size\n",
    "fig, ax = pyplot.subplots(figsize=(8,6))\n",
    "\n",
    "# plot data\n",
    "x = range(0,len(fc))\n",
    "ax.plot(x, fc, color = 'black')\n",
    "ax.plot(x, true_prices, color = 'blue')\n",
    "\n",
    "# plot confidence interval\n",
    "ci_bottom = ci[:,0]\n",
    "ci_top = ci[:,1]\n",
    "ax.fill_between(x, ci_top, ci_bottom, color='#b9cfe7', edgecolor='')"
   ]
  },
  {
   "cell_type": "markdown",
   "metadata": {},
   "source": [
    "# Neural Networks"
   ]
  },
  {
   "cell_type": "code",
   "execution_count": 89,
   "metadata": {
    "collapsed": false
   },
   "outputs": [],
   "source": [
    "# split datetime into hours, days, weekdays, months\n",
    "def split_datetime(timestamps):\n",
    "    nn_datetime_np = np.array([])\n",
    "    for nn_datetime in timestamps:\n",
    "        nn_datetime = borzen_datetime_to_datetime(nn_datetime)\n",
    "        tmp_arr = [nn_datetime.hour, nn_datetime.day, nn_datetime.weekday(), nn_datetime.month]\n",
    "        try:\n",
    "            nn_datetime_np = np.vstack((nn_datetime_np, tmp_arr))\n",
    "        except:\n",
    "            nn_datetime_np = np.array(tmp_arr)\n",
    "    return nn_datetime_np"
   ]
  },
  {
   "cell_type": "markdown",
   "metadata": {},
   "source": [
    "## Load data"
   ]
  },
  {
   "cell_type": "code",
   "execution_count": 62,
   "metadata": {
    "collapsed": false
   },
   "outputs": [
    {
     "name": "stdout",
     "output_type": "stream",
     "text": [
      "Load 01 2016-Table 1.csv\n",
      "Loading prices successful!\n",
      "Load 02 2016-Table 1.csv\n",
      "Loading prices successful!\n",
      "Load 03 2016-Table 1.csv\n",
      "Loading prices successful!\n",
      "Load 04 2016-Table 1.csv\n",
      "Loading prices successful!\n",
      "Load 05 2016-Table 1.csv\n",
      "Loading prices successful!\n",
      "Load 06 2016-Table 1.csv\n",
      "Loading prices successful!\n",
      "Load 07 2016-Table 1.csv\n",
      "Loading prices successful!\n",
      "Load 08 2016-Table 1.csv\n",
      "Loading prices successful!\n",
      "Load 09 2016-Table 1.csv\n",
      "Loading prices successful!\n",
      "Load 10 2016-Table 1.csv\n",
      "Loading prices successful!\n",
      "Load 11 2016-Table 1.csv\n",
      "Loading prices successful!\n",
      "Load 12 2016-Table 1.csv\n",
      "Loading prices successful!\n"
     ]
    }
   ],
   "source": [
    "# load price data\n",
    "prices_nn = load_borzen_tables(False)\n",
    "prices_nn = Prices(prices_nn[:, 1], prices_nn[:, 0])"
   ]
  },
  {
   "cell_type": "markdown",
   "metadata": {},
   "source": [
    "## Fit the model "
   ]
  },
  {
   "cell_type": "code",
   "execution_count": 83,
   "metadata": {
    "collapsed": false
   },
   "outputs": [],
   "source": [
    "# change type of prices from string to float\n",
    "y = prices_nn.prices.astype(float)"
   ]
  },
  {
   "cell_type": "code",
   "execution_count": 124,
   "metadata": {
    "collapsed": false
   },
   "outputs": [
    {
     "name": "stdout",
     "output_type": "stream",
     "text": [
      "[ 0.25161611  0.25047324  0.25        0.24791064]\n"
     ]
    },
    {
     "name": "stderr",
     "output_type": "stream",
     "text": [
      "/Users/ales/anaconda/lib/python3.5/site-packages/sklearn/utils/validation.py:429: DataConversionWarning: Data with input dtype int64 was converted to float64 by the scale function.\n",
      "  warnings.warn(msg, _DataConversionWarning)\n"
     ]
    }
   ],
   "source": [
    "# determine X\n",
    "X = split_datetime(prices_nn.timestamps)\n",
    "# standardize\n",
    "X = sklearn.preprocessing.scale(X)\n",
    "pca = sklearn.decomposition.PCA(n_components=4)\n",
    "pca.fit(X)\n",
    "print(pca.explained_variance_ratio_) "
   ]
  },
  {
   "cell_type": "code",
   "execution_count": 126,
   "metadata": {
    "collapsed": false
   },
   "outputs": [],
   "source": [
    "model = sklearn.neural_network.MLPRegressor()"
   ]
  },
  {
   "cell_type": "code",
   "execution_count": 127,
   "metadata": {
    "collapsed": false
   },
   "outputs": [
    {
     "name": "stderr",
     "output_type": "stream",
     "text": [
      "/Users/ales/anaconda/lib/python3.5/site-packages/sklearn/neural_network/multilayer_perceptron.py:563: ConvergenceWarning: Stochastic Optimizer: Maximum iterations reached and the optimization hasn't converged yet.\n",
      "  % (), ConvergenceWarning)\n"
     ]
    }
   ],
   "source": [
    "model_fit = model.fit(X, y)"
   ]
  },
  {
   "cell_type": "markdown",
   "metadata": {},
   "source": [
    "## Predict"
   ]
  },
  {
   "cell_type": "code",
   "execution_count": 99,
   "metadata": {
    "collapsed": false
   },
   "outputs": [
    {
     "name": "stdout",
     "output_type": "stream",
     "text": [
      "Load test borzen prices.\n",
      "Loading test borzen prices successful!\n"
     ]
    }
   ],
   "source": [
    "test_prices = test_load_borzen_price_january(False)"
   ]
  },
  {
   "cell_type": "code",
   "execution_count": 128,
   "metadata": {
    "collapsed": false
   },
   "outputs": [
    {
     "name": "stderr",
     "output_type": "stream",
     "text": [
      "/Users/ales/anaconda/lib/python3.5/site-packages/sklearn/utils/validation.py:429: DataConversionWarning: Data with input dtype int64 was converted to float64 by the scale function.\n",
      "  warnings.warn(msg, _DataConversionWarning)\n"
     ]
    }
   ],
   "source": [
    "P = sklearn.preprocessing.scale(split_datetime(test_prices.timestamps))"
   ]
  },
  {
   "cell_type": "code",
   "execution_count": 129,
   "metadata": {
    "collapsed": false
   },
   "outputs": [],
   "source": [
    "predicted = model_fit.predict(P)"
   ]
  },
  {
   "cell_type": "code",
   "execution_count": 130,
   "metadata": {
    "collapsed": false
   },
   "outputs": [
    {
     "data": {
      "text/plain": [
       "[<matplotlib.lines.Line2D at 0x11924ce48>]"
      ]
     },
     "execution_count": 130,
     "metadata": {},
     "output_type": "execute_result"
    },
    {
     "data": {
      "image/png": "[encoded data removed]",
      "text/plain": [
       "<matplotlib.figure.Figure at 0x119768fd0>"
      ]
     },
     "metadata": {},
     "output_type": "display_data"
    }
   ],
   "source": [
    "# fig size\n",
    "fig, ax = pyplot.subplots(figsize=(8,6))\n",
    "\n",
    "# plot data\n",
    "x = range(0,len(test_prices.prices))\n",
    "true_prices = test_prices.prices\n",
    "ax.plot(x, predicted, color = 'black')\n",
    "ax.plot(x, true_prices, color = 'blue')"
   ]
  },
  {
   "cell_type": "code",
   "execution_count": null,
   "metadata": {
    "collapsed": true
   },
   "outputs": [],
   "source": []
  }
 ],
 "metadata": {
  "kernelspec": {
   "display_name": "Python 3",
   "language": "python",
   "name": "python3"
  },
  "language_info": {
   "codemirror_mode": {
    "name": "ipython",
    "version": 3
   },
   "file_extension": ".py",
   "mimetype": "text/x-python",
   "name": "python",
   "nbconvert_exporter": "python",
   "pygments_lexer": "ipython3",
   "version": "3.5.3"
  }
 },
 "nbformat": 4,
 "nbformat_minor": 0
}
